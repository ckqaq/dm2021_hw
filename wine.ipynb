{
 "cells": [
  {
   "cell_type": "markdown",
   "metadata": {},
   "source": [
    "# 互评作业1 数据探索性分析与数据预处理\n",
    "数据集为Wine Reviews，包含2个csv文件"
   ]
  },
  {
   "cell_type": "code",
   "execution_count": 1,
   "metadata": {},
   "outputs": [],
   "source": [
    "import pandas as pd\n",
    "import numpy as np\n",
    "import csv\n",
    "import json\n",
    "import pickle\n",
    "import matplotlib.pyplot as plt\n",
    "from scipy import stats\n",
    "import statsmodels.api as sm\n",
    "%matplotlib inline\n",
    "plt.rcParams['font.sans-serif'] = ['Microsoft YaHei']"
   ]
  },
  {
   "cell_type": "markdown",
   "metadata": {},
   "source": [
    "# · 针对winemag-data-130k-v2.csv数据集分析\n",
    "\n",
    "需要统计的13个属性如下：\n",
    "- country：产出国\n",
    "\n",
    "- description：描述\n",
    "\n",
    "- designation：葡萄酒名称\n",
    "\n",
    "- points：度数\n",
    "\n",
    "- price：价格\n",
    "\n",
    "- province：产出省\n",
    "\n",
    "- region_1：产出区域1\n",
    "\n",
    "- region_2：产出区域2\n",
    "\n",
    "- taster_name：品鉴师\n",
    "\n",
    "- taster_twitter_handle：品鉴师推特号\n",
    "\n",
    "- title：品鉴师所获荣誉\n",
    "\n",
    "- variety：品种\n",
    "\n",
    "- winery：酒厂"
   ]
  },
  {
   "cell_type": "markdown",
   "metadata": {},
   "source": [
    "## 1. 提取和整理数据"
   ]
  },
  {
   "cell_type": "code",
   "execution_count": 2,
   "metadata": {},
   "outputs": [
    {
     "data": {
      "text/html": [
       "<div>\n",
       "<style scoped>\n",
       "    .dataframe tbody tr th:only-of-type {\n",
       "        vertical-align: middle;\n",
       "    }\n",
       "\n",
       "    .dataframe tbody tr th {\n",
       "        vertical-align: top;\n",
       "    }\n",
       "\n",
       "    .dataframe thead th {\n",
       "        text-align: right;\n",
       "    }\n",
       "</style>\n",
       "<table border=\"1\" class=\"dataframe\">\n",
       "  <thead>\n",
       "    <tr style=\"text-align: right;\">\n",
       "      <th></th>\n",
       "      <th>country</th>\n",
       "      <th>description</th>\n",
       "      <th>designation</th>\n",
       "      <th>points</th>\n",
       "      <th>price</th>\n",
       "      <th>province</th>\n",
       "      <th>region_1</th>\n",
       "      <th>region_2</th>\n",
       "      <th>taster_name</th>\n",
       "      <th>taster_twitter_handle</th>\n",
       "      <th>title</th>\n",
       "      <th>variety</th>\n",
       "      <th>winery</th>\n",
       "    </tr>\n",
       "  </thead>\n",
       "  <tbody>\n",
       "    <tr>\n",
       "      <th>0</th>\n",
       "      <td>Italy</td>\n",
       "      <td>Aromas include tropical fruit, broom, brimston...</td>\n",
       "      <td>Vulkà Bianco</td>\n",
       "      <td>87</td>\n",
       "      <td>NaN</td>\n",
       "      <td>Sicily &amp; Sardinia</td>\n",
       "      <td>Etna</td>\n",
       "      <td>NaN</td>\n",
       "      <td>Kerin O’Keefe</td>\n",
       "      <td>@kerinokeefe</td>\n",
       "      <td>Nicosia 2013 Vulkà Bianco  (Etna)</td>\n",
       "      <td>White Blend</td>\n",
       "      <td>Nicosia</td>\n",
       "    </tr>\n",
       "    <tr>\n",
       "      <th>1</th>\n",
       "      <td>Portugal</td>\n",
       "      <td>This is ripe and fruity, a wine that is smooth...</td>\n",
       "      <td>Avidagos</td>\n",
       "      <td>87</td>\n",
       "      <td>15.0</td>\n",
       "      <td>Douro</td>\n",
       "      <td>NaN</td>\n",
       "      <td>NaN</td>\n",
       "      <td>Roger Voss</td>\n",
       "      <td>@vossroger</td>\n",
       "      <td>Quinta dos Avidagos 2011 Avidagos Red (Douro)</td>\n",
       "      <td>Portuguese Red</td>\n",
       "      <td>Quinta dos Avidagos</td>\n",
       "    </tr>\n",
       "    <tr>\n",
       "      <th>2</th>\n",
       "      <td>US</td>\n",
       "      <td>Tart and snappy, the flavors of lime flesh and...</td>\n",
       "      <td>NaN</td>\n",
       "      <td>87</td>\n",
       "      <td>14.0</td>\n",
       "      <td>Oregon</td>\n",
       "      <td>Willamette Valley</td>\n",
       "      <td>Willamette Valley</td>\n",
       "      <td>Paul Gregutt</td>\n",
       "      <td>@paulgwine</td>\n",
       "      <td>Rainstorm 2013 Pinot Gris (Willamette Valley)</td>\n",
       "      <td>Pinot Gris</td>\n",
       "      <td>Rainstorm</td>\n",
       "    </tr>\n",
       "    <tr>\n",
       "      <th>3</th>\n",
       "      <td>US</td>\n",
       "      <td>Pineapple rind, lemon pith and orange blossom ...</td>\n",
       "      <td>Reserve Late Harvest</td>\n",
       "      <td>87</td>\n",
       "      <td>13.0</td>\n",
       "      <td>Michigan</td>\n",
       "      <td>Lake Michigan Shore</td>\n",
       "      <td>NaN</td>\n",
       "      <td>Alexander Peartree</td>\n",
       "      <td>NaN</td>\n",
       "      <td>St. Julian 2013 Reserve Late Harvest Riesling ...</td>\n",
       "      <td>Riesling</td>\n",
       "      <td>St. Julian</td>\n",
       "    </tr>\n",
       "    <tr>\n",
       "      <th>4</th>\n",
       "      <td>US</td>\n",
       "      <td>Much like the regular bottling from 2012, this...</td>\n",
       "      <td>Vintner's Reserve Wild Child Block</td>\n",
       "      <td>87</td>\n",
       "      <td>65.0</td>\n",
       "      <td>Oregon</td>\n",
       "      <td>Willamette Valley</td>\n",
       "      <td>Willamette Valley</td>\n",
       "      <td>Paul Gregutt</td>\n",
       "      <td>@paulgwine</td>\n",
       "      <td>Sweet Cheeks 2012 Vintner's Reserve Wild Child...</td>\n",
       "      <td>Pinot Noir</td>\n",
       "      <td>Sweet Cheeks</td>\n",
       "    </tr>\n",
       "  </tbody>\n",
       "</table>\n",
       "</div>"
      ],
      "text/plain": [
       "    country                                        description  \\\n",
       "0     Italy  Aromas include tropical fruit, broom, brimston...   \n",
       "1  Portugal  This is ripe and fruity, a wine that is smooth...   \n",
       "2        US  Tart and snappy, the flavors of lime flesh and...   \n",
       "3        US  Pineapple rind, lemon pith and orange blossom ...   \n",
       "4        US  Much like the regular bottling from 2012, this...   \n",
       "\n",
       "                          designation  points  price           province  \\\n",
       "0                        Vulkà Bianco      87    NaN  Sicily & Sardinia   \n",
       "1                            Avidagos      87   15.0              Douro   \n",
       "2                                 NaN      87   14.0             Oregon   \n",
       "3                Reserve Late Harvest      87   13.0           Michigan   \n",
       "4  Vintner's Reserve Wild Child Block      87   65.0             Oregon   \n",
       "\n",
       "              region_1           region_2         taster_name  \\\n",
       "0                 Etna                NaN       Kerin O’Keefe   \n",
       "1                  NaN                NaN          Roger Voss   \n",
       "2    Willamette Valley  Willamette Valley        Paul Gregutt   \n",
       "3  Lake Michigan Shore                NaN  Alexander Peartree   \n",
       "4    Willamette Valley  Willamette Valley        Paul Gregutt   \n",
       "\n",
       "  taster_twitter_handle                                              title  \\\n",
       "0          @kerinokeefe                  Nicosia 2013 Vulkà Bianco  (Etna)   \n",
       "1            @vossroger      Quinta dos Avidagos 2011 Avidagos Red (Douro)   \n",
       "2           @paulgwine       Rainstorm 2013 Pinot Gris (Willamette Valley)   \n",
       "3                   NaN  St. Julian 2013 Reserve Late Harvest Riesling ...   \n",
       "4           @paulgwine   Sweet Cheeks 2012 Vintner's Reserve Wild Child...   \n",
       "\n",
       "          variety               winery  \n",
       "0     White Blend              Nicosia  \n",
       "1  Portuguese Red  Quinta dos Avidagos  \n",
       "2      Pinot Gris            Rainstorm  \n",
       "3        Riesling           St. Julian  \n",
       "4      Pinot Noir         Sweet Cheeks  "
      ]
     },
     "execution_count": 2,
     "metadata": {},
     "output_type": "execute_result"
    }
   ],
   "source": [
    "# 导入数据\n",
    "wine_data = pd.read_csv('wine\\winemag-data-130k-v2.csv',index_col = 0)\n",
    "wine_data.head()"
   ]
  },
  {
   "cell_type": "code",
   "execution_count": 3,
   "metadata": {},
   "outputs": [
    {
     "data": {
      "text/plain": [
       "(['country',\n",
       "  'description',\n",
       "  'designation',\n",
       "  'points',\n",
       "  'price',\n",
       "  'province',\n",
       "  'region_1',\n",
       "  'region_2',\n",
       "  'taster_name',\n",
       "  'taster_twitter_handle',\n",
       "  'title',\n",
       "  'variety',\n",
       "  'winery'],\n",
       " (129971, 13))"
      ]
     },
     "execution_count": 3,
     "metadata": {},
     "output_type": "execute_result"
    }
   ],
   "source": [
    "cols = list(wine_data)\n",
    "cols,wine_data.shape"
   ]
  },
  {
   "cell_type": "markdown",
   "metadata": {},
   "source": [
    "## 2. 数据摘要\n",
    "### 2.1 计算标称数据频数\n"
   ]
  },
  {
   "cell_type": "code",
   "execution_count": 4,
   "metadata": {},
   "outputs": [
    {
     "name": "stdout",
     "output_type": "stream",
     "text": [
      "<class 'pandas.core.frame.DataFrame'>\n",
      "Int64Index: 129971 entries, 0 to 129970\n",
      "Data columns (total 13 columns):\n",
      " #   Column                 Non-Null Count   Dtype  \n",
      "---  ------                 --------------   -----  \n",
      " 0   country                129908 non-null  object \n",
      " 1   description            129971 non-null  object \n",
      " 2   designation            92506 non-null   object \n",
      " 3   points                 129971 non-null  int64  \n",
      " 4   price                  120975 non-null  float64\n",
      " 5   province               129908 non-null  object \n",
      " 6   region_1               108724 non-null  object \n",
      " 7   region_2               50511 non-null   object \n",
      " 8   taster_name            103727 non-null  object \n",
      " 9   taster_twitter_handle  98758 non-null   object \n",
      " 10  title                  129971 non-null  object \n",
      " 11  variety                129970 non-null  object \n",
      " 12  winery                 129971 non-null  object \n",
      "dtypes: float64(1), int64(1), object(11)\n",
      "memory usage: 13.9+ MB\n"
     ]
    }
   ],
   "source": [
    "# 查看各列值的属性\n",
    "wine_data.info()"
   ]
  },
  {
   "cell_type": "markdown",
   "metadata": {},
   "source": [
    "**country,designation,province,region_1,region_2,taster_name,taster_twitter_handle,variety,winery为标称属性，统计频数如下**"
   ]
  },
  {
   "cell_type": "code",
   "execution_count": 5,
   "metadata": {
    "scrolled": false
   },
   "outputs": [
    {
     "name": "stdout",
     "output_type": "stream",
     "text": [
      "US                        54504\n",
      "France                    22093\n",
      "Italy                     19540\n",
      "Spain                      6645\n",
      "Portugal                   5691\n",
      "Chile                      4472\n",
      "Argentina                  3800\n",
      "Austria                    3345\n",
      "Australia                  2329\n",
      "Germany                    2165\n",
      "New Zealand                1419\n",
      "South Africa               1401\n",
      "Israel                      505\n",
      "Greece                      466\n",
      "Canada                      257\n",
      "Hungary                     146\n",
      "Bulgaria                    141\n",
      "Romania                     120\n",
      "Uruguay                     109\n",
      "Turkey                       90\n",
      "Slovenia                     87\n",
      "Georgia                      86\n",
      "England                      74\n",
      "Croatia                      73\n",
      "Mexico                       70\n",
      "Moldova                      59\n",
      "Brazil                       52\n",
      "Lebanon                      35\n",
      "Morocco                      28\n",
      "Peru                         16\n",
      "Ukraine                      14\n",
      "Serbia                       12\n",
      "Macedonia                    12\n",
      "Czech Republic               12\n",
      "Cyprus                       11\n",
      "India                         9\n",
      "Switzerland                   7\n",
      "Luxembourg                    6\n",
      "Bosnia and Herzegovina        2\n",
      "Armenia                       2\n",
      "China                         1\n",
      "Egypt                         1\n",
      "Slovakia                      1\n",
      "Name: country, dtype: int64\n",
      "------------------------------------------------------------\n",
      "Reserve                          2009\n",
      "Estate                           1322\n",
      "Reserva                          1259\n",
      "Riserva                           698\n",
      "Estate Grown                      621\n",
      "                                 ... \n",
      "Block Series Reserva Especial       1\n",
      "Maquette Estate                     1\n",
      "Vale da Mata Branco                 1\n",
      "Parcella Unica                      1\n",
      "Alta Mora Rosso                     1\n",
      "Name: designation, Length: 37979, dtype: int64\n",
      "------------------------------------------------------------\n",
      "California          36247\n",
      "Washington           8639\n",
      "Bordeaux             5941\n",
      "Tuscany              5897\n",
      "Oregon               5373\n",
      "                    ...  \n",
      "Kentucky                1\n",
      "Table wine              1\n",
      "Vlootenburg             1\n",
      "Dolenjska               1\n",
      "Serra do Sudeste        1\n",
      "Name: province, Length: 425, dtype: int64\n",
      "------------------------------------------------------------\n",
      "Napa Valley                 4480\n",
      "Columbia Valley (WA)        4124\n",
      "Russian River Valley        3091\n",
      "California                  2629\n",
      "Paso Robles                 2350\n",
      "                            ... \n",
      "Medrano                        1\n",
      "Riverland                      1\n",
      "Clare Valley-Eden Valley       1\n",
      "Martina                        1\n",
      "Clairette de Die               1\n",
      "Name: region_1, Length: 1229, dtype: int64\n",
      "------------------------------------------------------------\n",
      "Central Coast        11065\n",
      "Sonoma                9028\n",
      "Columbia Valley       8103\n",
      "Napa                  6814\n",
      "Willamette Valley     3423\n",
      "California Other      2663\n",
      "Finger Lakes          1777\n",
      "Sierra Foothills      1462\n",
      "Napa-Sonoma           1169\n",
      "Central Valley        1062\n",
      "Southern Oregon        917\n",
      "Oregon Other           727\n",
      "Long Island            680\n",
      "North Coast            584\n",
      "Washington Other       534\n",
      "South Coast            272\n",
      "New York Other         231\n",
      "Name: region_2, dtype: int64\n",
      "------------------------------------------------------------\n",
      "Roger Voss            25514\n",
      "Michael Schachner     15134\n",
      "Kerin O’Keefe         10776\n",
      "Virginie Boone         9537\n",
      "Paul Gregutt           9532\n",
      "Matt Kettmann          6332\n",
      "Joe Czerwinski         5147\n",
      "Sean P. Sullivan       4966\n",
      "Anna Lee C. Iijima     4415\n",
      "Jim Gordon             4177\n",
      "Anne Krebiehl MW       3685\n",
      "Lauren Buzzeo          1835\n",
      "Susan Kostrzewa        1085\n",
      "Mike DeSimone           514\n",
      "Jeff Jenssen            491\n",
      "Alexander Peartree      415\n",
      "Carrie Dykes            139\n",
      "Fiona Adams              27\n",
      "Christina Pickard         6\n",
      "Name: taster_name, dtype: int64\n",
      "------------------------------------------------------------\n",
      "@vossroger          25514\n",
      "@wineschach         15134\n",
      "@kerinokeefe        10776\n",
      "@vboone              9537\n",
      "@paulgwine           9532\n",
      "@mattkettmann        6332\n",
      "@JoeCz               5147\n",
      "@wawinereport        4966\n",
      "@gordone_cellars     4177\n",
      "@AnneInVino          3685\n",
      "@laurbuzz            1835\n",
      "@suskostrzewa        1085\n",
      "@worldwineguys       1005\n",
      "@bkfiona               27\n",
      "@winewchristina         6\n",
      "Name: taster_twitter_handle, dtype: int64\n",
      "------------------------------------------------------------\n",
      "Pinot Noir                    13272\n",
      "Chardonnay                    11753\n",
      "Cabernet Sauvignon             9472\n",
      "Red Blend                      8946\n",
      "Bordeaux-style Red Blend       6915\n",
      "                              ...  \n",
      "Grenache Gris                     1\n",
      "Tsapournakos                      1\n",
      "Pignolo                           1\n",
      "Tintilia                          1\n",
      "Cabernet Sauvignon-Barbera        1\n",
      "Name: variety, Length: 707, dtype: int64\n",
      "------------------------------------------------------------\n",
      "Wines & Winemakers      222\n",
      "Testarossa              218\n",
      "DFJ Vinhos              215\n",
      "Williams Selyem         211\n",
      "Louis Latour            199\n",
      "                       ... \n",
      "Ambrose                   1\n",
      "Domaine de Lischetto      1\n",
      "Mönchhof                  1\n",
      "Montelvini Venegazzù      1\n",
      "Declaration               1\n",
      "Name: winery, Length: 16757, dtype: int64\n",
      "------------------------------------------------------------\n"
     ]
    }
   ],
   "source": [
    "col_name = ['country','designation','province','region_1','region_2','taster_name','taster_twitter_handle','variety','winery']\n",
    "for name in col_name:\n",
    "    print(wine_data[name].value_counts())\n",
    "    print('-'*60)"
   ]
  },
  {
   "cell_type": "markdown",
   "metadata": {},
   "source": [
    "**California州为最大产出州，Roger Voss的品鉴次数最多，Pinot Noir品种统计最多。**\n",
    "### 2.2 对数值数据计算五数概括\n",
    "数值数据为points和price"
   ]
  },
  {
   "cell_type": "code",
   "execution_count": 6,
   "metadata": {},
   "outputs": [
    {
     "data": {
      "text/html": [
       "<div>\n",
       "<style scoped>\n",
       "    .dataframe tbody tr th:only-of-type {\n",
       "        vertical-align: middle;\n",
       "    }\n",
       "\n",
       "    .dataframe tbody tr th {\n",
       "        vertical-align: top;\n",
       "    }\n",
       "\n",
       "    .dataframe thead th {\n",
       "        text-align: right;\n",
       "    }\n",
       "</style>\n",
       "<table border=\"1\" class=\"dataframe\">\n",
       "  <thead>\n",
       "    <tr style=\"text-align: right;\">\n",
       "      <th></th>\n",
       "      <th>points</th>\n",
       "      <th>price</th>\n",
       "    </tr>\n",
       "  </thead>\n",
       "  <tbody>\n",
       "    <tr>\n",
       "      <th>count</th>\n",
       "      <td>129971.000000</td>\n",
       "      <td>120975.000000</td>\n",
       "    </tr>\n",
       "    <tr>\n",
       "      <th>mean</th>\n",
       "      <td>88.447138</td>\n",
       "      <td>35.363389</td>\n",
       "    </tr>\n",
       "    <tr>\n",
       "      <th>std</th>\n",
       "      <td>3.039730</td>\n",
       "      <td>41.022218</td>\n",
       "    </tr>\n",
       "    <tr>\n",
       "      <th>min</th>\n",
       "      <td>80.000000</td>\n",
       "      <td>4.000000</td>\n",
       "    </tr>\n",
       "    <tr>\n",
       "      <th>25%</th>\n",
       "      <td>86.000000</td>\n",
       "      <td>17.000000</td>\n",
       "    </tr>\n",
       "    <tr>\n",
       "      <th>50%</th>\n",
       "      <td>88.000000</td>\n",
       "      <td>25.000000</td>\n",
       "    </tr>\n",
       "    <tr>\n",
       "      <th>75%</th>\n",
       "      <td>91.000000</td>\n",
       "      <td>42.000000</td>\n",
       "    </tr>\n",
       "    <tr>\n",
       "      <th>max</th>\n",
       "      <td>100.000000</td>\n",
       "      <td>3300.000000</td>\n",
       "    </tr>\n",
       "  </tbody>\n",
       "</table>\n",
       "</div>"
      ],
      "text/plain": [
       "              points          price\n",
       "count  129971.000000  120975.000000\n",
       "mean       88.447138      35.363389\n",
       "std         3.039730      41.022218\n",
       "min        80.000000       4.000000\n",
       "25%        86.000000      17.000000\n",
       "50%        88.000000      25.000000\n",
       "75%        91.000000      42.000000\n",
       "max       100.000000    3300.000000"
      ]
     },
     "execution_count": 6,
     "metadata": {},
     "output_type": "execute_result"
    }
   ],
   "source": [
    "name = ['points','price']\n",
    "wine_data[name].describe()"
   ]
  },
  {
   "cell_type": "markdown",
   "metadata": {},
   "source": [
    "\n",
    "- points中最大100.0，最小80.0，均值88.45\n",
    "- prive中最大3300.0，最小4.0，均值35.36\n"
   ]
  },
  {
   "cell_type": "markdown",
   "metadata": {},
   "source": [
    "## 3. 数据可视化\n",
    "### 3.1 度数分析"
   ]
  },
  {
   "cell_type": "code",
   "execution_count": 7,
   "metadata": {},
   "outputs": [
    {
     "data": {
      "image/png": "[encoded data removed]",
      "text/plain": [
       "<Figure size 432x288 with 1 Axes>"
      ]
     },
     "metadata": {
      "needs_background": "light"
     },
     "output_type": "display_data"
    },
    {
     "data": {
      "image/png": "[encoded data removed]",
      "text/plain": [
       "<Figure size 432x288 with 1 Axes>"
      ]
     },
     "metadata": {
      "needs_background": "light"
     },
     "output_type": "display_data"
    },
    {
     "data": {
      "text/plain": [
       "<AxesSubplot:>"
      ]
     },
     "execution_count": 7,
     "metadata": {},
     "output_type": "execute_result"
    },
    {
     "data": {
      "image/png": "[encoded data removed]",
      "text/plain": [
       "<Figure size 432x288 with 1 Axes>"
      ]
     },
     "metadata": {
      "needs_background": "light"
     },
     "output_type": "display_data"
    }
   ],
   "source": [
    "# 度数可视化\n",
    "wine_data['points'].hist()\n",
    "points = wine_data['points'].dropna()\n",
    "points = points.apply(lambda x: x + np.random.normal())\n",
    "fig = plt.figure()\n",
    "res = stats.probplot(points, plot=plt)\n",
    "plt.show()\n",
    "\n",
    "wine_data.boxplot(column=['points'])\n"
   ]
  },
  {
   "cell_type": "markdown",
   "metadata": {},
   "source": [
    "**经检验，度数属性符合正态分布。97度以上的值出现极少。**"
   ]
  },
  {
   "cell_type": "markdown",
   "metadata": {},
   "source": [
    "### 3.2 价格可视化"
   ]
  },
  {
   "cell_type": "code",
   "execution_count": 8,
   "metadata": {
    "scrolled": false
   },
   "outputs": [
    {
     "data": {
      "image/png": "[encoded data removed]",
      "text/plain": [
       "<Figure size 432x288 with 1 Axes>"
      ]
     },
     "metadata": {
      "needs_background": "light"
     },
     "output_type": "display_data"
    },
    {
     "data": {
      "image/png": "[encoded data removed]",
      "text/plain": [
       "<Figure size 432x288 with 1 Axes>"
      ]
     },
     "metadata": {
      "needs_background": "light"
     },
     "output_type": "display_data"
    },
    {
     "data": {
      "text/plain": [
       "<AxesSubplot:>"
      ]
     },
     "execution_count": 8,
     "metadata": {},
     "output_type": "execute_result"
    },
    {
     "data": {
      "image/png": "[encoded data removed]",
      "text/plain": [
       "<Figure size 432x288 with 1 Axes>"
      ]
     },
     "metadata": {
      "needs_background": "light"
     },
     "output_type": "display_data"
    }
   ],
   "source": [
    "# 价格可视化\n",
    "wine_data['price'].hist()\n",
    "\n",
    "price = wine_data['price'].dropna()\n",
    "price = price.apply(lambda x: x + np.random.normal())\n",
    "\n",
    "fig = plt.figure()\n",
    "res = stats.probplot(price, plot=plt)\n",
    "plt.show()\n",
    "wine_data.boxplot(column=['price'])"
   ]
  },
  {
   "cell_type": "markdown",
   "metadata": {},
   "source": [
    "**价格属性中，高价位出现次数较少，1000以下较为集中**"
   ]
  },
  {
   "cell_type": "markdown",
   "metadata": {},
   "source": [
    "### 3.3 酒厂名可视化"
   ]
  },
  {
   "cell_type": "code",
   "execution_count": 9,
   "metadata": {},
   "outputs": [
    {
     "data": {
      "text/plain": [
       "<AxesSubplot:title={'center':'winery'}, xlabel='name', ylabel='count'>"
      ]
     },
     "execution_count": 9,
     "metadata": {},
     "output_type": "execute_result"
    },
    {
     "data": {
      "image/png": "[encoded data removed]",
      "text/plain": [
       "<Figure size 432x288 with 1 Axes>"
      ]
     },
     "metadata": {
      "needs_background": "light"
     },
     "output_type": "display_data"
    }
   ],
   "source": [
    "wine_data['winery'].value_counts().head(20).plot.bar(title='winery',xlabel='name',ylabel='count')"
   ]
  },
  {
   "cell_type": "markdown",
   "metadata": {},
   "source": [
    "**经统计品种数量排名前20的数据中，Wines & Winemakers占比最多**"
   ]
  },
  {
   "cell_type": "markdown",
   "metadata": {},
   "source": [
    "## 4. 缺失值处理\n",
    "### 4.1 剔除缺失值\n"
   ]
  },
  {
   "cell_type": "code",
   "execution_count": 10,
   "metadata": {},
   "outputs": [
    {
     "data": {
      "text/plain": [
       "country                     63\n",
       "description                  0\n",
       "designation              37465\n",
       "points                       0\n",
       "price                     8996\n",
       "province                    63\n",
       "region_1                 21247\n",
       "region_2                 79460\n",
       "taster_name              26244\n",
       "taster_twitter_handle    31213\n",
       "title                        0\n",
       "variety                      1\n",
       "winery                       0\n",
       "dtype: int64"
      ]
     },
     "execution_count": 10,
     "metadata": {},
     "output_type": "execute_result"
    }
   ],
   "source": [
    "# 统计缺失值个数\n",
    "wine_data.isnull().sum()"
   ]
  },
  {
   "cell_type": "markdown",
   "metadata": {},
   "source": [
    "- country和province缺失个数相同，可能无法确定酒的产出地区\n",
    "- taster_twitter_handle缺失，可能是因为该taster无相关荣誉\n",
    "\n",
    "**variety属性缺失一个，查看该记录，发现其可能是没有经过品鉴的新酒，删除后影响较小，直接剔除该记录**"
   ]
  },
  {
   "cell_type": "code",
   "execution_count": 11,
   "metadata": {},
   "outputs": [],
   "source": [
    "cwine_data = wine_data.copy(deep=True)"
   ]
  },
  {
   "cell_type": "code",
   "execution_count": 12,
   "metadata": {},
   "outputs": [
    {
     "data": {
      "text/html": [
       "<div>\n",
       "<style scoped>\n",
       "    .dataframe tbody tr th:only-of-type {\n",
       "        vertical-align: middle;\n",
       "    }\n",
       "\n",
       "    .dataframe tbody tr th {\n",
       "        vertical-align: top;\n",
       "    }\n",
       "\n",
       "    .dataframe thead th {\n",
       "        text-align: right;\n",
       "    }\n",
       "</style>\n",
       "<table border=\"1\" class=\"dataframe\">\n",
       "  <thead>\n",
       "    <tr style=\"text-align: right;\">\n",
       "      <th></th>\n",
       "      <th>country</th>\n",
       "      <th>description</th>\n",
       "      <th>designation</th>\n",
       "      <th>points</th>\n",
       "      <th>price</th>\n",
       "      <th>province</th>\n",
       "      <th>region_1</th>\n",
       "      <th>region_2</th>\n",
       "      <th>taster_name</th>\n",
       "      <th>taster_twitter_handle</th>\n",
       "      <th>title</th>\n",
       "      <th>variety</th>\n",
       "      <th>winery</th>\n",
       "    </tr>\n",
       "  </thead>\n",
       "  <tbody>\n",
       "    <tr>\n",
       "      <th>86909</th>\n",
       "      <td>Chile</td>\n",
       "      <td>A chalky, dusty mouthfeel nicely balances this...</td>\n",
       "      <td>NaN</td>\n",
       "      <td>88</td>\n",
       "      <td>17.0</td>\n",
       "      <td>Maipo Valley</td>\n",
       "      <td>NaN</td>\n",
       "      <td>NaN</td>\n",
       "      <td>NaN</td>\n",
       "      <td>NaN</td>\n",
       "      <td>Carmen 1999  (Maipo Valley)</td>\n",
       "      <td>NaN</td>\n",
       "      <td>Carmen</td>\n",
       "    </tr>\n",
       "  </tbody>\n",
       "</table>\n",
       "</div>"
      ],
      "text/plain": [
       "      country                                        description designation  \\\n",
       "86909   Chile  A chalky, dusty mouthfeel nicely balances this...         NaN   \n",
       "\n",
       "       points  price      province region_1 region_2 taster_name  \\\n",
       "86909      88   17.0  Maipo Valley      NaN      NaN         NaN   \n",
       "\n",
       "      taster_twitter_handle                        title variety  winery  \n",
       "86909                   NaN  Carmen 1999  (Maipo Valley)     NaN  Carmen  "
      ]
     },
     "execution_count": 12,
     "metadata": {},
     "output_type": "execute_result"
    }
   ],
   "source": [
    "cwine_data[cwine_data.variety.isnull()]"
   ]
  },
  {
   "cell_type": "code",
   "execution_count": 13,
   "metadata": {
    "scrolled": true
   },
   "outputs": [],
   "source": [
    "cwine_data = cwine_data.dropna(how='any',subset=['variety'])"
   ]
  },
  {
   "cell_type": "code",
   "execution_count": 14,
   "metadata": {},
   "outputs": [
    {
     "data": {
      "text/plain": [
       "country                     63\n",
       "description                  0\n",
       "designation              37464\n",
       "points                       0\n",
       "price                     8996\n",
       "province                    63\n",
       "region_1                 21246\n",
       "region_2                 79459\n",
       "taster_name              26243\n",
       "taster_twitter_handle    31212\n",
       "title                        0\n",
       "variety                      0\n",
       "winery                       0\n",
       "dtype: int64"
      ]
     },
     "execution_count": 14,
     "metadata": {},
     "output_type": "execute_result"
    }
   ],
   "source": [
    "cwine_data.isnull().sum()"
   ]
  },
  {
   "cell_type": "markdown",
   "metadata": {},
   "source": [
    "### 4.2 高频率值填补缺失值\n",
    "**在上述分析中，未缺失数据的价格大多集中在1000元以下，因此选择用最高频率值填补价格缺失值**"
   ]
  },
  {
   "cell_type": "code",
   "execution_count": 15,
   "metadata": {},
   "outputs": [],
   "source": [
    "fill_data = cwine_data.fillna({'price':cwine_data['price'].mode().item()})"
   ]
  },
  {
   "cell_type": "code",
   "execution_count": 16,
   "metadata": {
    "scrolled": false
   },
   "outputs": [
    {
     "data": {
      "text/plain": [
       "<matplotlib.legend.Legend at 0x19aab35bec8>"
      ]
     },
     "execution_count": 16,
     "metadata": {},
     "output_type": "execute_result"
    },
    {
     "data": {
      "image/png": "[encoded data removed]",
      "text/plain": [
       "<Figure size 432x288 with 1 Axes>"
      ]
     },
     "metadata": {
      "needs_background": "light"
     },
     "output_type": "display_data"
    }
   ],
   "source": [
    "fill_data['price'].hist(label='price after'),cwine_data['price'].hist(label='price before')\n",
    "plt.legend(loc='upper right')"
   ]
  },
  {
   "cell_type": "markdown",
   "metadata": {},
   "source": [
    "**可以看出，处理后的高频值更多。**"
   ]
  },
  {
   "cell_type": "markdown",
   "metadata": {},
   "source": [
    "\n",
    "### 4.3 通过数据相似性填充缺失值\n",
    "\n",
    "**针对region 1，用省份和葡萄种类相同的值填充，没有相同的则用统一省份最高频的region 1填充。最后未找到的使用该国最高频region 1 填充。**"
   ]
  },
  {
   "cell_type": "code",
   "execution_count": 17,
   "metadata": {},
   "outputs": [],
   "source": [
    "#  由于之前删除数据，首先重置索引\n",
    "cwine_data.reset_index(inplace=True,drop=True)\n",
    "\n",
    "# 选择region_1 为空的元组\n",
    "region_null = cwine_data[cwine_data.region_1.isnull()][['province','variety','country']]\n"
   ]
  },
  {
   "cell_type": "code",
   "execution_count": 18,
   "metadata": {},
   "outputs": [],
   "source": [
    "# 相似值填充\n",
    "region = ''\n",
    "ConProvDict={}\n",
    "for row in region_null.itertuples():\n",
    "    # 初始化\n",
    "    if len(ConProvDict) ==0:\n",
    "        simTuple = cwine_data[(cwine_data.province==row[1])& (cwine_data.variety==row[2]) & ~(cwine_data.region_1.isnull())]['region_1']\n",
    "        if len(simTuple)==0:\n",
    "            simTuple = cwine_data[(cwine_data.province==row[1])& ~(cwine_data.region_1.isnull())]['region_1']\n",
    "        \n",
    "        # 使用该国region_1最高频值填充\n",
    "        if len(simTuple) ==0:\n",
    "            simTuple = cwine_data[(cwine_data.country==row[3])& ~(cwine_data.region_1.isnull())]['region_1']\n",
    "        if len(simTuple)==0:\n",
    "            region = ''\n",
    "            subDict = {row[2]:region}\n",
    "            ConProvDict[row[1]]= subDict\n",
    "        else:\n",
    "            region = simTuple.value_counts().keys()[0]\n",
    "            subDict = {row[2]:region}\n",
    "            ConProvDict[row[1]]= subDict\n",
    "            cwine_data.loc[row[0]:row[0]+1,'region_1']= region   \n",
    "    if ConProvDict.get(row[1])!=None and ConProvDict[row[1]].get(row[2])!=None:\n",
    "        region = ConProvDict[row[1]][row[2]]\n",
    "        if region !='':\n",
    "             cwine_data.loc[row[0]:row[0]+1,'region_1']= region\n",
    "    else:\n",
    "        simTuple = cwine_data[(cwine_data.province==row[1])& (cwine_data.variety==row[2]) & ~(cwine_data.region_1.isnull())]['region_1']\n",
    "        if len(simTuple)==0:\n",
    "            simTuple = cwine_data[(cwine_data.province==row[1])& ~(cwine_data.region_1.isnull())]['region_1']\n",
    "        # 对于找不到相似元组的数据，使用该国region_1最高频填充\n",
    "        if len(simTuple) ==0:\n",
    "            simTuple = cwine_data[(cwine_data.country==row[3])& ~(cwine_data.region_1.isnull())]['region_1']\n",
    "        if len(simTuple)==0:\n",
    "            region = ''\n",
    "            subDict = {row[2]:region}\n",
    "            ConProvDict[row[1]]= subDict\n",
    "        else:\n",
    "            region = simTuple.value_counts().keys()[0]\n",
    "            subDict = {row[2]:region}\n",
    "            ConProvDict[row[1]]= subDict\n",
    "            cwine_data.loc[row[0]:row[0]+1,'region_1']= region"
   ]
  },
  {
   "cell_type": "code",
   "execution_count": 19,
   "metadata": {},
   "outputs": [
    {
     "data": {
      "text/plain": [
       "827"
      ]
     },
     "execution_count": 19,
     "metadata": {},
     "output_type": "execute_result"
    }
   ],
   "source": [
    "cwine_data['region_1'].isnull().sum()"
   ]
  },
  {
   "cell_type": "code",
   "execution_count": 20,
   "metadata": {
    "scrolled": true
   },
   "outputs": [],
   "source": [
    "c = cwine_data['region_1'].value_counts().head(10).to_frame()\n",
    "d = wine_data['region_1'].value_counts().head(10).to_frame()"
   ]
  },
  {
   "cell_type": "code",
   "execution_count": 21,
   "metadata": {
    "scrolled": false
   },
   "outputs": [
    {
     "data": {
      "text/plain": [
       "<matplotlib.legend.Legend at 0x19aad657388>"
      ]
     },
     "execution_count": 21,
     "metadata": {},
     "output_type": "execute_result"
    },
    {
     "data": {
      "image/png": "[encoded data removed]",
      "text/plain": [
       "<Figure size 1080x360 with 1 Axes>"
      ]
     },
     "metadata": {
      "needs_background": "light"
     },
     "output_type": "display_data"
    }
   ],
   "source": [
    "plt.figure(figsize=(15,5))\n",
    "index = np.arange(10)\n",
    "count = np.zeros(10)\n",
    "plt.bar(index,d['region_1'][:],0.5,label='region before')\n",
    "plt.xticks(index,d['region_1'].keys(),rotation=45)\n",
    "\n",
    "\n",
    "plt.bar(index,c['region_1'][:],0.5,label='region after')\n",
    "plt.xticks(index,c['region_1'].keys(),rotation=45)\n",
    "plt.legend(loc='upper right')"
   ]
  },
  {
   "cell_type": "markdown",
   "metadata": {},
   "source": [
    "**处理后仍有828个值无法填充，观察到部分记录的country为空，这些记录将无法找到相应值填充**\n",
    "**处理后大部分填充了Napa Vallery值，前10的排名有所变化**"
   ]
  },
  {
   "cell_type": "markdown",
   "metadata": {},
   "source": [
    "### 4.4 通过属性相关性填充缺失值"
   ]
  },
  {
   "cell_type": "code",
   "execution_count": 22,
   "metadata": {},
   "outputs": [
    {
     "name": "stdout",
     "output_type": "stream",
     "text": [
      "          points     price\n",
      "points  1.000000  0.416167\n",
      "price   0.416167  1.000000\n"
     ]
    }
   ],
   "source": [
    "# 计算相关系数\n",
    "print(cwine_data.corr())"
   ]
  },
  {
   "cell_type": "markdown",
   "metadata": {},
   "source": [
    "**通过线性拟合用points与price的相关性填补price缺失值**"
   ]
  },
  {
   "cell_type": "code",
   "execution_count": 23,
   "metadata": {},
   "outputs": [],
   "source": [
    "# 找出price空的point\n",
    "pointx =  cwine_data[cwine_data.price.isnull()]['points']\n",
    "# points = cwine_data['points']\n",
    "# price = cwine_data['price']\n",
    "test = cwine_data.dropna(how='any',subset=['price'])\n",
    "model = sm.OLS(test['price'],test['points']).fit()\n",
    "price_pred = model.predict(pointx)\n",
    "\n",
    "for i in price_pred.keys():\n",
    "    cwine_data.loc[i-1,'price'] = price_pred[i]\n",
    "# for i in range(len(new_data)):\n",
    "#     if(np.isnan(new_data['price'][i])):\n",
    "#         new_data.loc[i,'price'] = model.predict(new_data['points'][i])\n",
    "# number_data = ['points','price']\n"
   ]
  },
  {
   "cell_type": "code",
   "execution_count": 24,
   "metadata": {
    "scrolled": false
   },
   "outputs": [
    {
     "data": {
      "text/plain": [
       "<matplotlib.legend.Legend at 0x19aad7805c8>"
      ]
     },
     "execution_count": 24,
     "metadata": {},
     "output_type": "execute_result"
    },
    {
     "data": {
      "image/png": "[encoded data removed]",
      "text/plain": [
       "<Figure size 432x288 with 1 Axes>"
      ]
     },
     "metadata": {
      "needs_background": "light"
     },
     "output_type": "display_data"
    }
   ],
   "source": [
    "cwine_data.price.hist(label='price after')\n",
    "wine_data.price.hist(label='price before')\n",
    "plt.legend(loc='upper right')"
   ]
  },
  {
   "cell_type": "code",
   "execution_count": 25,
   "metadata": {},
   "outputs": [
    {
     "data": {
      "text/plain": [
       "<matplotlib.legend.Legend at 0x19aade3a848>"
      ]
     },
     "execution_count": 25,
     "metadata": {},
     "output_type": "execute_result"
    },
    {
     "data": {
      "image/png": "[encoded data removed]",
      "text/plain": [
       "<Figure size 432x288 with 1 Axes>"
      ]
     },
     "metadata": {
      "needs_background": "light"
     },
     "output_type": "display_data"
    }
   ],
   "source": [
    "cwine_data.points.hist(label='points after')\n",
    "wine_data.points.hist(label='points before')\n",
    "plt.legend(loc='upper right')"
   ]
  },
  {
   "cell_type": "code",
   "execution_count": 26,
   "metadata": {},
   "outputs": [
    {
     "data": {
      "text/plain": [
       "count    122897.000000\n",
       "mean         35.402163\n",
       "std          39.324337\n",
       "min           4.000000\n",
       "25%          18.000000\n",
       "50%          28.000000\n",
       "75%          40.000000\n",
       "max        3300.000000\n",
       "Name: price, dtype: float64"
      ]
     },
     "execution_count": 26,
     "metadata": {},
     "output_type": "execute_result"
    }
   ],
   "source": [
    "cwine_data.price.describe()"
   ]
  },
  {
   "cell_type": "code",
   "execution_count": 27,
   "metadata": {},
   "outputs": [
    {
     "data": {
      "text/plain": [
       "count    120975.000000\n",
       "mean         35.363389\n",
       "std          41.022218\n",
       "min           4.000000\n",
       "25%          17.000000\n",
       "50%          25.000000\n",
       "75%          42.000000\n",
       "max        3300.000000\n",
       "Name: price, dtype: float64"
      ]
     },
     "execution_count": 27,
     "metadata": {},
     "output_type": "execute_result"
    }
   ],
   "source": [
    "wine_data.price.describe()"
   ]
  },
  {
   "cell_type": "code",
   "execution_count": 28,
   "metadata": {},
   "outputs": [
    {
     "data": {
      "text/plain": [
       "<AxesSubplot:>"
      ]
     },
     "execution_count": 28,
     "metadata": {},
     "output_type": "execute_result"
    },
    {
     "data": {
      "image/png": "[encoded data removed]",
      "text/plain": [
       "<Figure size 432x288 with 1 Axes>"
      ]
     },
     "metadata": {
      "needs_background": "light"
     },
     "output_type": "display_data"
    }
   ],
   "source": [
    "wine_data.boxplot(column='price')\n"
   ]
  },
  {
   "cell_type": "code",
   "execution_count": 29,
   "metadata": {},
   "outputs": [
    {
     "data": {
      "text/plain": [
       "<AxesSubplot:>"
      ]
     },
     "execution_count": 29,
     "metadata": {},
     "output_type": "execute_result"
    },
    {
     "data": {
      "image/png": "[encoded data removed]",
      "text/plain": [
       "<Figure size 432x288 with 1 Axes>"
      ]
     },
     "metadata": {
      "needs_background": "light"
     },
     "output_type": "display_data"
    }
   ],
   "source": [
    "cwine_data.boxplot(column='price')"
   ]
  },
  {
   "cell_type": "markdown",
   "metadata": {},
   "source": [
    "**填充后points变化不明显。price均值和标准差均变化，均值减小。**"
   ]
  },
  {
   "cell_type": "markdown",
   "metadata": {},
   "source": [
    "## 5. 可视化比较清洗前后数据集\n",
    "- 首先删除variety为空的一行对齐前后数据集"
   ]
  },
  {
   "cell_type": "code",
   "execution_count": 30,
   "metadata": {},
   "outputs": [],
   "source": [
    "wine_data = wine_data.dropna(how='any',subset=['variety'])"
   ]
  },
  {
   "cell_type": "code",
   "execution_count": 31,
   "metadata": {},
   "outputs": [
    {
     "data": {
      "text/plain": [
       "country                     64\n",
       "description                  1\n",
       "designation              37465\n",
       "points                       1\n",
       "price                     7074\n",
       "province                    64\n",
       "region_1                   828\n",
       "region_2                 79460\n",
       "taster_name              26244\n",
       "taster_twitter_handle    31213\n",
       "title                        1\n",
       "variety                      1\n",
       "winery                       1\n",
       "dtype: int64"
      ]
     },
     "execution_count": 31,
     "metadata": {},
     "output_type": "execute_result"
    }
   ],
   "source": [
    "cwine_data.isnull().sum()"
   ]
  },
  {
   "cell_type": "code",
   "execution_count": 32,
   "metadata": {
    "scrolled": true
   },
   "outputs": [
    {
     "data": {
      "text/plain": [
       "((129970, 13), (129971, 13))"
      ]
     },
     "execution_count": 32,
     "metadata": {},
     "output_type": "execute_result"
    }
   ],
   "source": [
    "wine_data.shape,cwine_data.shape"
   ]
  },
  {
   "cell_type": "code",
   "execution_count": 33,
   "metadata": {
    "scrolled": true
   },
   "outputs": [],
   "source": [
    "# 对price做对比\n",
    "price = wine_data['price'].value_counts().head(390)\n",
    "cprice = cwine_data['price'].value_counts().head(390)\n",
    "# len(price),len(cprice)\n",
    "pltdf = pd.DataFrame({'price':cprice.values,'price_old':price.values})"
   ]
  },
  {
   "cell_type": "code",
   "execution_count": 34,
   "metadata": {
    "scrolled": false
   },
   "outputs": [
    {
     "data": {
      "text/plain": [
       "<AxesSubplot:>"
      ]
     },
     "execution_count": 34,
     "metadata": {},
     "output_type": "execute_result"
    },
    {
     "data": {
      "image/png": "[encoded data removed]",
      "text/plain": [
       "<Figure size 1080x432 with 1 Axes>"
      ]
     },
     "metadata": {
      "needs_background": "light"
     },
     "output_type": "display_data"
    }
   ],
   "source": [
    "plt.rcParams['figure.figsize']=(15,6)\n",
    "pltdf.sort_index().head(70).plot.bar()"
   ]
  },
  {
   "cell_type": "markdown",
   "metadata": {},
   "source": [
    "**在频率较高的价格区间内前后变化不大，在频率较低的价格区间内有些值的出现次数增加明显**"
   ]
  },
  {
   "cell_type": "markdown",
   "metadata": {},
   "source": [
    "\n",
    "\n",
    "\n",
    "# · 针对winemag-data_first150k.csv数据集分析\n",
    "\n",
    "该数据集比上一个数据集缺少了3个属性，需要统计的10个属性如下：\n",
    "- country：产出国\n",
    "\n",
    "- description：描述\n",
    "\n",
    "- designation：葡萄酒名称\n",
    "\n",
    "- points：度数\n",
    "\n",
    "- price：价格\n",
    "\n",
    "- province：产出省\n",
    "\n",
    "- region_1：产出区域1\n",
    "\n",
    "- region_2：产出区域2\n",
    "\n",
    "- variety：品种\n",
    "\n",
    "- winery：酒厂"
   ]
  },
  {
   "cell_type": "markdown",
   "metadata": {},
   "source": [
    "## 1. 提取和整理数据"
   ]
  },
  {
   "cell_type": "code",
   "execution_count": 35,
   "metadata": {
    "scrolled": true
   },
   "outputs": [
    {
     "data": {
      "text/html": [
       "<div>\n",
       "<style scoped>\n",
       "    .dataframe tbody tr th:only-of-type {\n",
       "        vertical-align: middle;\n",
       "    }\n",
       "\n",
       "    .dataframe tbody tr th {\n",
       "        vertical-align: top;\n",
       "    }\n",
       "\n",
       "    .dataframe thead th {\n",
       "        text-align: right;\n",
       "    }\n",
       "</style>\n",
       "<table border=\"1\" class=\"dataframe\">\n",
       "  <thead>\n",
       "    <tr style=\"text-align: right;\">\n",
       "      <th></th>\n",
       "      <th>country</th>\n",
       "      <th>description</th>\n",
       "      <th>designation</th>\n",
       "      <th>points</th>\n",
       "      <th>price</th>\n",
       "      <th>province</th>\n",
       "      <th>region_1</th>\n",
       "      <th>region_2</th>\n",
       "      <th>variety</th>\n",
       "      <th>winery</th>\n",
       "    </tr>\n",
       "  </thead>\n",
       "  <tbody>\n",
       "    <tr>\n",
       "      <th>0</th>\n",
       "      <td>US</td>\n",
       "      <td>This tremendous 100% varietal wine hails from ...</td>\n",
       "      <td>Martha's Vineyard</td>\n",
       "      <td>96</td>\n",
       "      <td>235.0</td>\n",
       "      <td>California</td>\n",
       "      <td>Napa Valley</td>\n",
       "      <td>Napa</td>\n",
       "      <td>Cabernet Sauvignon</td>\n",
       "      <td>Heitz</td>\n",
       "    </tr>\n",
       "    <tr>\n",
       "      <th>1</th>\n",
       "      <td>Spain</td>\n",
       "      <td>Ripe aromas of fig, blackberry and cassis are ...</td>\n",
       "      <td>Carodorum Selección Especial Reserva</td>\n",
       "      <td>96</td>\n",
       "      <td>110.0</td>\n",
       "      <td>Northern Spain</td>\n",
       "      <td>Toro</td>\n",
       "      <td>NaN</td>\n",
       "      <td>Tinta de Toro</td>\n",
       "      <td>Bodega Carmen Rodríguez</td>\n",
       "    </tr>\n",
       "    <tr>\n",
       "      <th>2</th>\n",
       "      <td>US</td>\n",
       "      <td>Mac Watson honors the memory of a wine once ma...</td>\n",
       "      <td>Special Selected Late Harvest</td>\n",
       "      <td>96</td>\n",
       "      <td>90.0</td>\n",
       "      <td>California</td>\n",
       "      <td>Knights Valley</td>\n",
       "      <td>Sonoma</td>\n",
       "      <td>Sauvignon Blanc</td>\n",
       "      <td>Macauley</td>\n",
       "    </tr>\n",
       "    <tr>\n",
       "      <th>3</th>\n",
       "      <td>US</td>\n",
       "      <td>This spent 20 months in 30% new French oak, an...</td>\n",
       "      <td>Reserve</td>\n",
       "      <td>96</td>\n",
       "      <td>65.0</td>\n",
       "      <td>Oregon</td>\n",
       "      <td>Willamette Valley</td>\n",
       "      <td>Willamette Valley</td>\n",
       "      <td>Pinot Noir</td>\n",
       "      <td>Ponzi</td>\n",
       "    </tr>\n",
       "    <tr>\n",
       "      <th>4</th>\n",
       "      <td>France</td>\n",
       "      <td>This is the top wine from La Bégude, named aft...</td>\n",
       "      <td>La Brûlade</td>\n",
       "      <td>95</td>\n",
       "      <td>66.0</td>\n",
       "      <td>Provence</td>\n",
       "      <td>Bandol</td>\n",
       "      <td>NaN</td>\n",
       "      <td>Provence red blend</td>\n",
       "      <td>Domaine de la Bégude</td>\n",
       "    </tr>\n",
       "  </tbody>\n",
       "</table>\n",
       "</div>"
      ],
      "text/plain": [
       "  country                                        description  \\\n",
       "0      US  This tremendous 100% varietal wine hails from ...   \n",
       "1   Spain  Ripe aromas of fig, blackberry and cassis are ...   \n",
       "2      US  Mac Watson honors the memory of a wine once ma...   \n",
       "3      US  This spent 20 months in 30% new French oak, an...   \n",
       "4  France  This is the top wine from La Bégude, named aft...   \n",
       "\n",
       "                            designation  points  price        province  \\\n",
       "0                     Martha's Vineyard      96  235.0      California   \n",
       "1  Carodorum Selección Especial Reserva      96  110.0  Northern Spain   \n",
       "2         Special Selected Late Harvest      96   90.0      California   \n",
       "3                               Reserve      96   65.0          Oregon   \n",
       "4                            La Brûlade      95   66.0        Provence   \n",
       "\n",
       "            region_1           region_2             variety  \\\n",
       "0        Napa Valley               Napa  Cabernet Sauvignon   \n",
       "1               Toro                NaN       Tinta de Toro   \n",
       "2     Knights Valley             Sonoma     Sauvignon Blanc   \n",
       "3  Willamette Valley  Willamette Valley          Pinot Noir   \n",
       "4             Bandol                NaN  Provence red blend   \n",
       "\n",
       "                    winery  \n",
       "0                    Heitz  \n",
       "1  Bodega Carmen Rodríguez  \n",
       "2                 Macauley  \n",
       "3                    Ponzi  \n",
       "4     Domaine de la Bégude  "
      ]
     },
     "execution_count": 35,
     "metadata": {},
     "output_type": "execute_result"
    }
   ],
   "source": [
    "# 导入数据\n",
    "wine1_data = pd.read_csv('wine\\winemag-data_first150k.csv',index_col = 0)\n",
    "wine1_data.head()"
   ]
  },
  {
   "cell_type": "code",
   "execution_count": 36,
   "metadata": {},
   "outputs": [
    {
     "data": {
      "text/plain": [
       "(['country',\n",
       "  'description',\n",
       "  'designation',\n",
       "  'points',\n",
       "  'price',\n",
       "  'province',\n",
       "  'region_1',\n",
       "  'region_2',\n",
       "  'variety',\n",
       "  'winery'],\n",
       " (150930, 10))"
      ]
     },
     "execution_count": 36,
     "metadata": {},
     "output_type": "execute_result"
    }
   ],
   "source": [
    "cols = list(wine1_data)\n",
    "cols,wine1_data.shape"
   ]
  },
  {
   "cell_type": "markdown",
   "metadata": {},
   "source": [
    "## 2. 数据摘要\n",
    "### 2.1 计算标称数据频数\n"
   ]
  },
  {
   "cell_type": "code",
   "execution_count": 37,
   "metadata": {
    "scrolled": true
   },
   "outputs": [
    {
     "name": "stdout",
     "output_type": "stream",
     "text": [
      "<class 'pandas.core.frame.DataFrame'>\n",
      "Int64Index: 150930 entries, 0 to 150929\n",
      "Data columns (total 10 columns):\n",
      " #   Column       Non-Null Count   Dtype  \n",
      "---  ------       --------------   -----  \n",
      " 0   country      150925 non-null  object \n",
      " 1   description  150930 non-null  object \n",
      " 2   designation  105195 non-null  object \n",
      " 3   points       150930 non-null  int64  \n",
      " 4   price        137235 non-null  float64\n",
      " 5   province     150925 non-null  object \n",
      " 6   region_1     125870 non-null  object \n",
      " 7   region_2     60953 non-null   object \n",
      " 8   variety      150930 non-null  object \n",
      " 9   winery       150930 non-null  object \n",
      "dtypes: float64(1), int64(1), object(8)\n",
      "memory usage: 12.7+ MB\n"
     ]
    }
   ],
   "source": [
    "# 查看各列值的属性\n",
    "wine1_data.info()"
   ]
  },
  {
   "cell_type": "markdown",
   "metadata": {},
   "source": [
    "**country,designation,province,region_1,region_2,variety,winery为标称属性，统计频数如下**"
   ]
  },
  {
   "cell_type": "code",
   "execution_count": 38,
   "metadata": {
    "scrolled": false
   },
   "outputs": [
    {
     "name": "stdout",
     "output_type": "stream",
     "text": [
      "US                        62397\n",
      "Italy                     23478\n",
      "France                    21098\n",
      "Spain                      8268\n",
      "Chile                      5816\n",
      "Argentina                  5631\n",
      "Portugal                   5322\n",
      "Australia                  4957\n",
      "New Zealand                3320\n",
      "Austria                    3057\n",
      "Germany                    2452\n",
      "South Africa               2258\n",
      "Greece                      884\n",
      "Israel                      630\n",
      "Hungary                     231\n",
      "Canada                      196\n",
      "Romania                     139\n",
      "Slovenia                     94\n",
      "Uruguay                      92\n",
      "Croatia                      89\n",
      "Bulgaria                     77\n",
      "Moldova                      71\n",
      "Mexico                       63\n",
      "Turkey                       52\n",
      "Georgia                      43\n",
      "Lebanon                      37\n",
      "Cyprus                       31\n",
      "Brazil                       25\n",
      "Macedonia                    16\n",
      "Serbia                       14\n",
      "Morocco                      12\n",
      "England                       9\n",
      "Luxembourg                    9\n",
      "Lithuania                     8\n",
      "India                         8\n",
      "Czech Republic                6\n",
      "Ukraine                       5\n",
      "Switzerland                   4\n",
      "Bosnia and Herzegovina        4\n",
      "South Korea                   4\n",
      "Slovakia                      3\n",
      "China                         3\n",
      "Egypt                         3\n",
      "Albania                       2\n",
      "Tunisia                       2\n",
      "Japan                         2\n",
      "Montenegro                    2\n",
      "US-France                     1\n",
      "Name: country, dtype: int64\n",
      "------------------------------------------------------------\n",
      "Reserve                     2752\n",
      "Reserva                     1810\n",
      "Estate                      1571\n",
      "Barrel sample               1326\n",
      "Riserva                      754\n",
      "                            ... \n",
      "Ohana                          1\n",
      "DFJ Alvarinho-Chardonnay       1\n",
      "Petra                          1\n",
      "Capitel del Monte              1\n",
      "Seeberg Reserve                1\n",
      "Name: designation, Length: 30621, dtype: int64\n",
      "------------------------------------------------------------\n",
      "California          44508\n",
      "Washington           9750\n",
      "Tuscany              7281\n",
      "Bordeaux             6111\n",
      "Northern Spain       4892\n",
      "                    ...  \n",
      "Zitsa                   1\n",
      "Vale Trentino           1\n",
      "Ticino                  1\n",
      "Central Greece          1\n",
      "Serra do Sudeste        1\n",
      "Name: province, Length: 455, dtype: int64\n",
      "------------------------------------------------------------\n",
      "Napa Valley                              6209\n",
      "Columbia Valley (WA)                     4975\n",
      "Mendoza                                  3586\n",
      "Russian River Valley                     3571\n",
      "California                               3462\n",
      "                                         ... \n",
      "Valdobbiadene Prosecco Superiore            1\n",
      "Hautes Cotes de Beaune                      1\n",
      "Recioto della Valpolicella Valpantena       1\n",
      "Côtes du Roussillon Villages Caramany       1\n",
      "Mâcon-Péronne                               1\n",
      "Name: region_1, Length: 1236, dtype: int64\n",
      "------------------------------------------------------------\n",
      "Central Coast              13057\n",
      "Sonoma                     11258\n",
      "Columbia Valley             9157\n",
      "Napa                        8801\n",
      "California Other            3516\n",
      "Willamette Valley           3181\n",
      "Mendocino/Lake Counties     2389\n",
      "Sierra Foothills            1660\n",
      "Napa-Sonoma                 1645\n",
      "Finger Lakes                1510\n",
      "Central Valley              1115\n",
      "Long Island                  771\n",
      "Southern Oregon              662\n",
      "Oregon Other                 661\n",
      "North Coast                  632\n",
      "Washington Other             593\n",
      "South Coast                  198\n",
      "New York Other               147\n",
      "Name: region_2, dtype: int64\n",
      "------------------------------------------------------------\n",
      "Chardonnay                  14482\n",
      "Pinot Noir                  14291\n",
      "Cabernet Sauvignon          12800\n",
      "Red Blend                   10062\n",
      "Bordeaux-style Red Blend     7347\n",
      "                            ...  \n",
      "Torontel                        1\n",
      "Tempranillo-Malbec              1\n",
      "Sauvignon Musqué                1\n",
      "Sacy                            1\n",
      "Grolleau                        1\n",
      "Name: variety, Length: 632, dtype: int64\n",
      "------------------------------------------------------------\n",
      "Williams Selyem          374\n",
      "Testarossa               274\n",
      "DFJ Vinhos               258\n",
      "Chateau Ste. Michelle    225\n",
      "Columbia Crest           217\n",
      "                        ... \n",
      "Podere Canalino            1\n",
      "Alluviale                  1\n",
      "Château la Gomerie         1\n",
      "the Ghost of 413           1\n",
      "Le Fornaci                 1\n",
      "Name: winery, Length: 14810, dtype: int64\n",
      "------------------------------------------------------------\n"
     ]
    }
   ],
   "source": [
    "col_name = ['country','designation','province','region_1','region_2','variety','winery']\n",
    "for name in col_name:\n",
    "    print(wine1_data[name].value_counts())\n",
    "    print('-'*60)"
   ]
  },
  {
   "cell_type": "markdown",
   "metadata": {},
   "source": [
    "**US位最大产出国，California为最大产出州，Chardonnay品种出现次数最多，williams Selyem酒厂出现次数最多**\n",
    "### 2.2 对数值数据计算五数概括\n",
    "数值数据为points和price"
   ]
  },
  {
   "cell_type": "code",
   "execution_count": 39,
   "metadata": {},
   "outputs": [
    {
     "data": {
      "text/html": [
       "<div>\n",
       "<style scoped>\n",
       "    .dataframe tbody tr th:only-of-type {\n",
       "        vertical-align: middle;\n",
       "    }\n",
       "\n",
       "    .dataframe tbody tr th {\n",
       "        vertical-align: top;\n",
       "    }\n",
       "\n",
       "    .dataframe thead th {\n",
       "        text-align: right;\n",
       "    }\n",
       "</style>\n",
       "<table border=\"1\" class=\"dataframe\">\n",
       "  <thead>\n",
       "    <tr style=\"text-align: right;\">\n",
       "      <th></th>\n",
       "      <th>points</th>\n",
       "      <th>price</th>\n",
       "    </tr>\n",
       "  </thead>\n",
       "  <tbody>\n",
       "    <tr>\n",
       "      <th>count</th>\n",
       "      <td>150930.000000</td>\n",
       "      <td>137235.000000</td>\n",
       "    </tr>\n",
       "    <tr>\n",
       "      <th>mean</th>\n",
       "      <td>87.888418</td>\n",
       "      <td>33.131482</td>\n",
       "    </tr>\n",
       "    <tr>\n",
       "      <th>std</th>\n",
       "      <td>3.222392</td>\n",
       "      <td>36.322536</td>\n",
       "    </tr>\n",
       "    <tr>\n",
       "      <th>min</th>\n",
       "      <td>80.000000</td>\n",
       "      <td>4.000000</td>\n",
       "    </tr>\n",
       "    <tr>\n",
       "      <th>25%</th>\n",
       "      <td>86.000000</td>\n",
       "      <td>16.000000</td>\n",
       "    </tr>\n",
       "    <tr>\n",
       "      <th>50%</th>\n",
       "      <td>88.000000</td>\n",
       "      <td>24.000000</td>\n",
       "    </tr>\n",
       "    <tr>\n",
       "      <th>75%</th>\n",
       "      <td>90.000000</td>\n",
       "      <td>40.000000</td>\n",
       "    </tr>\n",
       "    <tr>\n",
       "      <th>max</th>\n",
       "      <td>100.000000</td>\n",
       "      <td>2300.000000</td>\n",
       "    </tr>\n",
       "  </tbody>\n",
       "</table>\n",
       "</div>"
      ],
      "text/plain": [
       "              points          price\n",
       "count  150930.000000  137235.000000\n",
       "mean       87.888418      33.131482\n",
       "std         3.222392      36.322536\n",
       "min        80.000000       4.000000\n",
       "25%        86.000000      16.000000\n",
       "50%        88.000000      24.000000\n",
       "75%        90.000000      40.000000\n",
       "max       100.000000    2300.000000"
      ]
     },
     "execution_count": 39,
     "metadata": {},
     "output_type": "execute_result"
    }
   ],
   "source": [
    "name = ['points','price']\n",
    "wine1_data[name].describe()"
   ]
  },
  {
   "cell_type": "markdown",
   "metadata": {},
   "source": [
    "\n",
    "- points中最大100.0，最小80.0，均值87.88\n",
    "- price中最大2300.0，最小4.0，均值33.13\n"
   ]
  },
  {
   "cell_type": "markdown",
   "metadata": {},
   "source": [
    "## 3. 数据可视化\n",
    "### 3.1 度数分析"
   ]
  },
  {
   "cell_type": "code",
   "execution_count": 40,
   "metadata": {},
   "outputs": [
    {
     "data": {
      "image/png": "[encoded data removed]",
      "text/plain": [
       "<Figure size 1080x432 with 1 Axes>"
      ]
     },
     "metadata": {
      "needs_background": "light"
     },
     "output_type": "display_data"
    },
    {
     "data": {
      "image/png": "[encoded data removed]",
      "text/plain": [
       "<Figure size 1080x432 with 1 Axes>"
      ]
     },
     "metadata": {
      "needs_background": "light"
     },
     "output_type": "display_data"
    },
    {
     "data": {
      "text/plain": [
       "<AxesSubplot:>"
      ]
     },
     "execution_count": 40,
     "metadata": {},
     "output_type": "execute_result"
    },
    {
     "data": {
      "image/png": "[encoded data removed]",
      "text/plain": [
       "<Figure size 1080x432 with 1 Axes>"
      ]
     },
     "metadata": {
      "needs_background": "light"
     },
     "output_type": "display_data"
    }
   ],
   "source": [
    "# 度数可视化\n",
    "wine1_data['points'].hist()\n",
    "points = wine1_data['points'].dropna()\n",
    "points = points.apply(lambda x: x + np.random.normal())\n",
    "fig = plt.figure()\n",
    "res = stats.probplot(points, plot=plt)\n",
    "plt.show()\n",
    "\n",
    "wine1_data.boxplot(column=['points'])\n"
   ]
  },
  {
   "cell_type": "markdown",
   "metadata": {},
   "source": [
    "**经检验，度数属性符合整体分布，97.5以上极少出现**"
   ]
  },
  {
   "cell_type": "markdown",
   "metadata": {},
   "source": [
    "### 3.2 价格可视化"
   ]
  },
  {
   "cell_type": "code",
   "execution_count": 41,
   "metadata": {},
   "outputs": [
    {
     "data": {
      "image/png": "[encoded data removed]",
      "text/plain": [
       "<Figure size 1080x432 with 1 Axes>"
      ]
     },
     "metadata": {
      "needs_background": "light"
     },
     "output_type": "display_data"
    },
    {
     "data": {
      "image/png": "[encoded data removed]",
      "text/plain": [
       "<Figure size 1080x432 with 1 Axes>"
      ]
     },
     "metadata": {
      "needs_background": "light"
     },
     "output_type": "display_data"
    },
    {
     "data": {
      "text/plain": [
       "<AxesSubplot:>"
      ]
     },
     "execution_count": 41,
     "metadata": {},
     "output_type": "execute_result"
    },
    {
     "data": {
      "image/png": "[encoded data removed]",
      "text/plain": [
       "<Figure size 1080x432 with 1 Axes>"
      ]
     },
     "metadata": {
      "needs_background": "light"
     },
     "output_type": "display_data"
    }
   ],
   "source": [
    "# 价格可视化\n",
    "wine1_data['price'].hist()\n",
    "\n",
    "price = wine1_data['price'].dropna()\n",
    "price = price.apply(lambda x: x + np.random.normal())\n",
    "\n",
    "fig = plt.figure()\n",
    "res = stats.probplot(price, plot=plt)\n",
    "plt.show()\n",
    "wine1_data.boxplot(column=['price'])"
   ]
  },
  {
   "cell_type": "markdown",
   "metadata": {},
   "source": [
    "**价格属性中，高价位出现次数较少，1000以下较为集中**"
   ]
  },
  {
   "cell_type": "markdown",
   "metadata": {},
   "source": [
    "### 3.3 酒厂名可视化"
   ]
  },
  {
   "cell_type": "code",
   "execution_count": 42,
   "metadata": {},
   "outputs": [
    {
     "data": {
      "text/plain": [
       "<AxesSubplot:title={'center':'winery'}, xlabel='name', ylabel='count'>"
      ]
     },
     "execution_count": 42,
     "metadata": {},
     "output_type": "execute_result"
    },
    {
     "data": {
      "image/png": "[encoded data removed]",
      "text/plain": [
       "<Figure size 1080x432 with 1 Axes>"
      ]
     },
     "metadata": {
      "needs_background": "light"
     },
     "output_type": "display_data"
    }
   ],
   "source": [
    "wine1_data['winery'].value_counts().head(20).plot.bar(title='winery',xlabel='name',ylabel='count')"
   ]
  },
  {
   "cell_type": "markdown",
   "metadata": {},
   "source": [
    "**经统计品种数量排名前20的数据中，Wines & Winemakers占比最多**"
   ]
  },
  {
   "cell_type": "markdown",
   "metadata": {},
   "source": [
    "## 4. 缺失值处理\n",
    "### 4.1 剔除缺失值\n"
   ]
  },
  {
   "cell_type": "code",
   "execution_count": 43,
   "metadata": {},
   "outputs": [
    {
     "data": {
      "text/plain": [
       "country            5\n",
       "description        0\n",
       "designation    45735\n",
       "points             0\n",
       "price          13695\n",
       "province           5\n",
       "region_1       25060\n",
       "region_2       89977\n",
       "variety            0\n",
       "winery             0\n",
       "dtype: int64"
      ]
     },
     "execution_count": 43,
     "metadata": {},
     "output_type": "execute_result"
    }
   ],
   "source": [
    "# 统计缺失值个数\n",
    "wine1_data.isnull().sum()"
   ]
  },
  {
   "cell_type": "markdown",
   "metadata": {},
   "source": [
    "**country和province缺失值个数相同，且占比较少，考虑直接删除为空的记录**\n"
   ]
  },
  {
   "cell_type": "code",
   "execution_count": 44,
   "metadata": {},
   "outputs": [],
   "source": [
    "# 剔除空值元组\n",
    "cwine1_data = wine1_data.copy(deep=True) "
   ]
  },
  {
   "cell_type": "code",
   "execution_count": 45,
   "metadata": {},
   "outputs": [],
   "source": [
    "cwine1_data = cwine1_data.dropna(how=\"any\", subset=[\"country\"])"
   ]
  },
  {
   "cell_type": "code",
   "execution_count": 46,
   "metadata": {},
   "outputs": [
    {
     "data": {
      "text/plain": [
       "country            0\n",
       "description        0\n",
       "designation    45735\n",
       "points             0\n",
       "price          13695\n",
       "province           0\n",
       "region_1       25055\n",
       "region_2       89972\n",
       "variety            0\n",
       "winery             0\n",
       "dtype: int64"
      ]
     },
     "execution_count": 46,
     "metadata": {},
     "output_type": "execute_result"
    }
   ],
   "source": [
    "cwine1_data.isnull().sum()"
   ]
  },
  {
   "cell_type": "code",
   "execution_count": 47,
   "metadata": {},
   "outputs": [
    {
     "data": {
      "text/plain": [
       "country            5\n",
       "description        0\n",
       "designation    45735\n",
       "points             0\n",
       "price          13695\n",
       "province           5\n",
       "region_1       25060\n",
       "region_2       89977\n",
       "variety            0\n",
       "winery             0\n",
       "dtype: int64"
      ]
     },
     "execution_count": 47,
     "metadata": {},
     "output_type": "execute_result"
    }
   ],
   "source": [
    "wine1_data.isnull().sum()"
   ]
  },
  {
   "cell_type": "markdown",
   "metadata": {},
   "source": [
    "### 4.2 高频率值填补缺失值\n",
    "**酒名用高频值填充**"
   ]
  },
  {
   "cell_type": "code",
   "execution_count": 48,
   "metadata": {
    "scrolled": true
   },
   "outputs": [
    {
     "data": {
      "text/plain": [
       "Reserve                             2752\n",
       "Reserva                             1810\n",
       "Estate                              1571\n",
       "Barrel sample                       1326\n",
       "Riserva                              754\n",
       "                                    ... \n",
       "Petra                                  1\n",
       "Capitel del Monte                      1\n",
       "Sunny View Vineyard                    1\n",
       "Erbach Ortslage Kabinett Trocken       1\n",
       "Seeberg Reserve                        1\n",
       "Name: designation, Length: 30618, dtype: int64"
      ]
     },
     "execution_count": 48,
     "metadata": {},
     "output_type": "execute_result"
    }
   ],
   "source": [
    "cwine1_data.designation.value_counts()"
   ]
  },
  {
   "cell_type": "code",
   "execution_count": 49,
   "metadata": {},
   "outputs": [],
   "source": [
    "cwine1_data['designation'].fillna(cwine1_data.designation.value_counts().head(1).keys()[0]\n",
    ",inplace=True)"
   ]
  },
  {
   "cell_type": "code",
   "execution_count": 50,
   "metadata": {
    "scrolled": false
   },
   "outputs": [
    {
     "data": {
      "text/plain": [
       "<matplotlib.legend.Legend at 0x19ab75dbe48>"
      ]
     },
     "execution_count": 50,
     "metadata": {},
     "output_type": "execute_result"
    },
    {
     "data": {
      "image/png": "[encoded data removed]",
      "text/plain": [
       "<Figure size 1080x432 with 1 Axes>"
      ]
     },
     "metadata": {
      "needs_background": "light"
     },
     "output_type": "display_data"
    }
   ],
   "source": [
    "fill_data['price'].hist(label='price after'),cwine1_data['price'].hist(label='price before')\n",
    "plt.legend(loc='upper right')"
   ]
  },
  {
   "cell_type": "markdown",
   "metadata": {},
   "source": [
    "**对比看出，高频值较之前有提升**"
   ]
  },
  {
   "cell_type": "markdown",
   "metadata": {},
   "source": [
    "\n",
    "### 4.3 通过数据相似性填充缺失值\n",
    "\n",
    "**针对region 1，用省份和葡萄种类相同的值填充，没有相同的则用统一省份最高频的region 1填充。最后未找到的使用该国最高频region 1 填充。**"
   ]
  },
  {
   "cell_type": "code",
   "execution_count": 51,
   "metadata": {},
   "outputs": [],
   "source": [
    "#  由于之前删除数据，首先重置索引\n",
    "cwine1_data.reset_index(inplace=True,drop=True)\n",
    "\n",
    "# 选择region_1 为空的元组\n",
    "region_null = cwine1_data[cwine1_data.region_1.isnull()][['province','variety','country']]\n"
   ]
  },
  {
   "cell_type": "code",
   "execution_count": 52,
   "metadata": {},
   "outputs": [],
   "source": [
    "# 相似值填充\n",
    "region = ''\n",
    "ConProvDict={}\n",
    "for row in region_null.itertuples():\n",
    "    # 初始化\n",
    "    if len(ConProvDict) ==0:\n",
    "        simTuple = cwine1_data[(cwine1_data.province==row[1])& (cwine1_data.variety==row[2]) & ~(cwine1_data.region_1.isnull())]['region_1']\n",
    "        if len(simTuple)==0:\n",
    "            simTuple = cwine1_data[(cwine1_data.province==row[1])& ~(cwine1_data.region_1.isnull())]['region_1']\n",
    "        \n",
    "        # 使用该国region_1最高频值填充\n",
    "        if len(simTuple) ==0:\n",
    "            simTuple = cwine1_data[(cwine1_data.country==row[3])& ~(cwine1_data.region_1.isnull())]['region_1']\n",
    "        if len(simTuple)==0:\n",
    "            region = ''\n",
    "            subDict = {row[2]:region}\n",
    "            ConProvDict[row[1]]= subDict\n",
    "        else:\n",
    "            region = simTuple.value_counts().keys()[0]\n",
    "            subDict = {row[2]:region}\n",
    "            ConProvDict[row[1]]= subDict\n",
    "            cwine1_data.loc[row[0]:row[0]+1,'region_1']= region   \n",
    "    if ConProvDict.get(row[1])!=None and ConProvDict[row[1]].get(row[2])!=None:\n",
    "        region = ConProvDict[row[1]][row[2]]\n",
    "        if region !='':\n",
    "             cwine1_data.loc[row[0]:row[0]+1,'region_1']= region\n",
    "    else:\n",
    "        simTuple = cwine1_data[(cwine1_data.province==row[1])& (cwine1_data.variety==row[2]) & ~(cwine1_data.region_1.isnull())]['region_1']\n",
    "        if len(simTuple)==0:\n",
    "            simTuple = cwine1_data[(cwine1_data.province==row[1])& ~(cwine1_data.region_1.isnull())]['region_1']\n",
    "        # 对于找不到相似元组的数据，使用该国region_1最高频填充\n",
    "        if len(simTuple) ==0:\n",
    "            simTuple = cwine1_data[(cwine1_data.country==row[3])& ~(cwine1_data.region_1.isnull())]['region_1']\n",
    "        if len(simTuple)==0:\n",
    "            region = ''\n",
    "            subDict = {row[2]:region}\n",
    "            ConProvDict[row[1]]= subDict\n",
    "        else:\n",
    "            region = simTuple.value_counts().keys()[0]\n",
    "            subDict = {row[2]:region}\n",
    "            ConProvDict[row[1]]= subDict\n",
    "            cwine1_data.loc[row[0]:row[0]+1,'region_1']= region"
   ]
  },
  {
   "cell_type": "code",
   "execution_count": 53,
   "metadata": {
    "scrolled": true
   },
   "outputs": [
    {
     "data": {
      "text/plain": [
       "473"
      ]
     },
     "execution_count": 53,
     "metadata": {},
     "output_type": "execute_result"
    }
   ],
   "source": [
    "cwine1_data['region_1'].isnull().sum()"
   ]
  },
  {
   "cell_type": "code",
   "execution_count": 54,
   "metadata": {},
   "outputs": [
    {
     "data": {
      "text/plain": [
       "(                      region_1\n",
       " Cahors                   42636\n",
       " Napa Valley               5348\n",
       " Columbia Valley (WA)      4296\n",
       " Mendoza                   3145\n",
       " Russian River Valley      2997\n",
       " California                2888\n",
       " Paso Robles               2614\n",
       " Willamette Valley         1713\n",
       " Rioja                     1632\n",
       " Toscana                   1621,\n",
       "                       region_1\n",
       " Napa Valley               6209\n",
       " Columbia Valley (WA)      4975\n",
       " Mendoza                   3586\n",
       " Russian River Valley      3571\n",
       " California                3462\n",
       " Paso Robles               3053\n",
       " Willamette Valley         2096\n",
       " Rioja                     1893\n",
       " Toscana                   1885\n",
       " Sonoma County             1853)"
      ]
     },
     "execution_count": 54,
     "metadata": {},
     "output_type": "execute_result"
    }
   ],
   "source": [
    "c = cwine1_data['region_1'].value_counts().head(10).to_frame()\n",
    "d = wine1_data['region_1'].value_counts().head(10).to_frame()\n",
    "c,d"
   ]
  },
  {
   "cell_type": "code",
   "execution_count": 55,
   "metadata": {},
   "outputs": [
    {
     "data": {
      "text/plain": [
       "<matplotlib.legend.Legend at 0x19ab7e93048>"
      ]
     },
     "execution_count": 55,
     "metadata": {},
     "output_type": "execute_result"
    },
    {
     "data": {
      "image/png": "[encoded data removed]",
      "text/plain": [
       "<Figure size 1080x360 with 1 Axes>"
      ]
     },
     "metadata": {
      "needs_background": "light"
     },
     "output_type": "display_data"
    }
   ],
   "source": [
    "plt.figure(figsize=(15,5))\n",
    "index = np.arange(10)\n",
    "count = np.zeros(10)\n",
    "plt.bar(index,d['region_1'][:],0.5,label='region before')\n",
    "plt.xticks(index,d['region_1'].keys(),rotation=45)\n",
    "\n",
    "\n",
    "plt.bar(index,c['region_1'][:],0.5,label='region after')\n",
    "plt.xticks(index,c['region_1'].keys(),rotation=45)\n",
    "plt.legend(loc='upper right')"
   ]
  },
  {
   "cell_type": "markdown",
   "metadata": {},
   "source": [
    "**处理后仍有473个值无法填充**\n",
    "**对比看到大量值被填充了cahors，而该值之前从未出现在前10中。一些排名也发生变化**"
   ]
  },
  {
   "cell_type": "markdown",
   "metadata": {},
   "source": [
    "### 4.4 通过属性相关性填充缺失值"
   ]
  },
  {
   "cell_type": "code",
   "execution_count": 56,
   "metadata": {
    "scrolled": true
   },
   "outputs": [
    {
     "name": "stdout",
     "output_type": "stream",
     "text": [
      "          points     price\n",
      "points  1.000000  0.459869\n",
      "price   0.459869  1.000000\n"
     ]
    }
   ],
   "source": [
    "# 计算相关系数\n",
    "print(cwine1_data.corr())"
   ]
  },
  {
   "cell_type": "markdown",
   "metadata": {},
   "source": [
    "**通过线性拟合用points与price的相关性填补price缺失值**"
   ]
  },
  {
   "cell_type": "code",
   "execution_count": 57,
   "metadata": {
    "scrolled": true
   },
   "outputs": [],
   "source": [
    "# 找出price空的point\n",
    "pointx =  cwine1_data[cwine1_data.price.isnull()]['points']\n",
    "test = cwine1_data.dropna(how='any',subset=['price'])\n",
    "model = sm.OLS(test['price'],test['points']).fit()\n",
    "price_pred = model.predict(pointx)\n",
    "\n",
    "for i in price_pred.keys():\n",
    "    cwine1_data.loc[i,'price'] = price_pred[i]\n",
    "# for i in range(len(new_data)):\n",
    "#     if(np.isnan(new_data['price'][i])):\n",
    "#         new_data.loc[i,'price'] = model.predict(new_data['points'][i])\n",
    "# number_data = ['points','price']\n"
   ]
  },
  {
   "cell_type": "code",
   "execution_count": 58,
   "metadata": {
    "scrolled": false
   },
   "outputs": [
    {
     "data": {
      "text/plain": [
       "<matplotlib.legend.Legend at 0x19abb025988>"
      ]
     },
     "execution_count": 58,
     "metadata": {},
     "output_type": "execute_result"
    },
    {
     "data": {
      "image/png": "[encoded data removed]",
      "text/plain": [
       "<Figure size 1080x432 with 1 Axes>"
      ]
     },
     "metadata": {
      "needs_background": "light"
     },
     "output_type": "display_data"
    }
   ],
   "source": [
    "cwine1_data.price.hist(label='price after')\n",
    "wine1_data.price.hist(label='price before')\n",
    "plt.legend(loc='upper right')"
   ]
  },
  {
   "cell_type": "code",
   "execution_count": 59,
   "metadata": {},
   "outputs": [
    {
     "data": {
      "text/plain": [
       "<matplotlib.legend.Legend at 0x19ab6ed7d48>"
      ]
     },
     "execution_count": 59,
     "metadata": {},
     "output_type": "execute_result"
    },
    {
     "data": {
      "image/png": "[encoded data removed]",
      "text/plain": [
       "<Figure size 1080x432 with 1 Axes>"
      ]
     },
     "metadata": {
      "needs_background": "light"
     },
     "output_type": "display_data"
    }
   ],
   "source": [
    "wine1_data.points.hist(label='points before')\n",
    "cwine1_data.points.hist(label='points after')\n",
    "plt.legend(loc='upper right')"
   ]
  },
  {
   "cell_type": "code",
   "execution_count": 60,
   "metadata": {},
   "outputs": [
    {
     "name": "stdout",
     "output_type": "stream",
     "text": [
      "AxesSubplot(0.125,0.125;0.775x0.755)\n"
     ]
    },
    {
     "data": {
      "image/png": "[encoded data removed]",
      "text/plain": [
       "<Figure size 1080x432 with 1 Axes>"
      ]
     },
     "metadata": {
      "needs_background": "light"
     },
     "output_type": "display_data"
    }
   ],
   "source": [
    "print(wine1_data.boxplot(column='price'))"
   ]
  },
  {
   "cell_type": "code",
   "execution_count": 61,
   "metadata": {
    "scrolled": false
   },
   "outputs": [
    {
     "name": "stdout",
     "output_type": "stream",
     "text": [
      "AxesSubplot(0.125,0.125;0.775x0.755)\n"
     ]
    },
    {
     "data": {
      "image/png": "[encoded data removed]",
      "text/plain": [
       "<Figure size 1080x432 with 1 Axes>"
      ]
     },
     "metadata": {
      "needs_background": "light"
     },
     "output_type": "display_data"
    }
   ],
   "source": [
    "print(cwine1_data.boxplot(column='price'))"
   ]
  },
  {
   "cell_type": "markdown",
   "metadata": {},
   "source": [
    "**处理后price较之前均值增加，大多数填充为最高频值**\n",
    "**points无明显变化**"
   ]
  },
  {
   "cell_type": "markdown",
   "metadata": {},
   "source": [
    "## 5. 可视化比较清洗前后数据集\n",
    "- 首先删除country为空的行对齐前后数据集"
   ]
  },
  {
   "cell_type": "code",
   "execution_count": 62,
   "metadata": {},
   "outputs": [],
   "source": [
    "wine1_data = wine1_data.dropna(how='any',subset=['country'])"
   ]
  },
  {
   "cell_type": "code",
   "execution_count": 63,
   "metadata": {},
   "outputs": [
    {
     "data": {
      "text/plain": [
       "((150925, 10), (150925, 10))"
      ]
     },
     "execution_count": 63,
     "metadata": {},
     "output_type": "execute_result"
    }
   ],
   "source": [
    "wine1_data.shape,cwine1_data.shape"
   ]
  },
  {
   "cell_type": "code",
   "execution_count": 64,
   "metadata": {},
   "outputs": [],
   "source": [
    "# 对price做对比\n",
    "price = wine1_data['price'].value_counts().head(350)\n",
    "cprice = cwine1_data['price'].value_counts().head(350)\n",
    "# len(price),len(cprice)\n",
    "pltdf = pd.DataFrame({'price after':cprice.values,'price before':price.values})"
   ]
  },
  {
   "cell_type": "code",
   "execution_count": 65,
   "metadata": {
    "scrolled": false
   },
   "outputs": [
    {
     "data": {
      "text/plain": [
       "<AxesSubplot:>"
      ]
     },
     "execution_count": 65,
     "metadata": {},
     "output_type": "execute_result"
    },
    {
     "data": {
      "image/png": "[encoded data removed]",
      "text/plain": [
       "<Figure size 1080x432 with 1 Axes>"
      ]
     },
     "metadata": {
      "needs_background": "light"
     },
     "output_type": "display_data"
    }
   ],
   "source": [
    "plt.rcParams['figure.figsize']=(15,6)\n",
    "pltdf.sort_index().head(70).plot.bar()"
   ]
  },
  {
   "cell_type": "markdown",
   "metadata": {},
   "source": [
    "**在频率较高的价格区间内前后变化不大，在频率较低的价格区间内有些值的出现次数增加明显**"
   ]
  }
 ],
 "metadata": {
  "kernelspec": {
   "display_name": "Python [conda env:tensorflow]",
   "language": "python",
   "name": "conda-env-tensorflow-py"
  },
  "language_info": {
   "codemirror_mode": {
    "name": "ipython",
    "version": 3
   },
   "file_extension": ".py",
   "mimetype": "text/x-python",
   "name": "python",
   "nbconvert_exporter": "python",
   "pygments_lexer": "ipython3",
   "version": "3.7.9"
  }
 },
 "nbformat": 4,
 "nbformat_minor": 4
}
