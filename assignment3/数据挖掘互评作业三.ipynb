{
 "cells": [
  {
   "cell_type": "markdown",
   "metadata": {},
   "source": [
    "# 互评作业三：分类，预测与聚类\n",
    "github:https://github.com/ckqaq/dm2021_hw/blob/main/assignment3/"
   ]
  },
  {
   "cell_type": "code",
   "execution_count": 1,
   "metadata": {},
   "outputs": [],
   "source": [
    "import numpy as np\n",
    "import pandas as pd\n",
    "from sklearn import model_selection\n",
    "from matplotlib import pyplot as plt\n",
    "from sklearn.linear_model import LogisticRegression\n",
    "from sklearn.preprocessing import LabelEncoder\n",
    "\n",
    "plt.rcParams['font.family'] = ['sans-serif']\n",
    "plt.rcParams['font.sans-serif'] = ['SimHei']"
   ]
  },
  {
   "cell_type": "code",
   "execution_count": 2,
   "metadata": {},
   "outputs": [],
   "source": [
    "data = pd.read_csv('./hotel_bookings.csv')\n",
    "data_copy = data.copy(deep=True)"
   ]
  },
  {
   "cell_type": "code",
   "execution_count": 3,
   "metadata": {},
   "outputs": [
    {
     "data": {
      "text/html": [
       "<div>\n",
       "<style scoped>\n",
       "    .dataframe tbody tr th:only-of-type {\n",
       "        vertical-align: middle;\n",
       "    }\n",
       "\n",
       "    .dataframe tbody tr th {\n",
       "        vertical-align: top;\n",
       "    }\n",
       "\n",
       "    .dataframe thead th {\n",
       "        text-align: right;\n",
       "    }\n",
       "</style>\n",
       "<table border=\"1\" class=\"dataframe\">\n",
       "  <thead>\n",
       "    <tr style=\"text-align: right;\">\n",
       "      <th></th>\n",
       "      <th>is_canceled</th>\n",
       "      <th>lead_time</th>\n",
       "      <th>arrival_date_year</th>\n",
       "      <th>arrival_date_week_number</th>\n",
       "      <th>arrival_date_day_of_month</th>\n",
       "      <th>stays_in_weekend_nights</th>\n",
       "      <th>stays_in_week_nights</th>\n",
       "      <th>adults</th>\n",
       "      <th>children</th>\n",
       "      <th>babies</th>\n",
       "      <th>is_repeated_guest</th>\n",
       "      <th>previous_cancellations</th>\n",
       "      <th>previous_bookings_not_canceled</th>\n",
       "      <th>booking_changes</th>\n",
       "      <th>agent</th>\n",
       "      <th>company</th>\n",
       "      <th>days_in_waiting_list</th>\n",
       "      <th>adr</th>\n",
       "      <th>required_car_parking_spaces</th>\n",
       "      <th>total_of_special_requests</th>\n",
       "    </tr>\n",
       "  </thead>\n",
       "  <tbody>\n",
       "    <tr>\n",
       "      <th>count</th>\n",
       "      <td>119390.000000</td>\n",
       "      <td>119390.000000</td>\n",
       "      <td>119390.000000</td>\n",
       "      <td>119390.000000</td>\n",
       "      <td>119390.000000</td>\n",
       "      <td>119390.000000</td>\n",
       "      <td>119390.000000</td>\n",
       "      <td>119390.000000</td>\n",
       "      <td>119386.000000</td>\n",
       "      <td>119390.000000</td>\n",
       "      <td>119390.000000</td>\n",
       "      <td>119390.000000</td>\n",
       "      <td>119390.000000</td>\n",
       "      <td>119390.000000</td>\n",
       "      <td>103050.000000</td>\n",
       "      <td>6797.000000</td>\n",
       "      <td>119390.000000</td>\n",
       "      <td>119390.000000</td>\n",
       "      <td>119390.000000</td>\n",
       "      <td>119390.000000</td>\n",
       "    </tr>\n",
       "    <tr>\n",
       "      <th>mean</th>\n",
       "      <td>0.370416</td>\n",
       "      <td>104.011416</td>\n",
       "      <td>2016.156554</td>\n",
       "      <td>27.165173</td>\n",
       "      <td>15.798241</td>\n",
       "      <td>0.927599</td>\n",
       "      <td>2.500302</td>\n",
       "      <td>1.856403</td>\n",
       "      <td>0.103890</td>\n",
       "      <td>0.007949</td>\n",
       "      <td>0.031912</td>\n",
       "      <td>0.087118</td>\n",
       "      <td>0.137097</td>\n",
       "      <td>0.221124</td>\n",
       "      <td>86.693382</td>\n",
       "      <td>189.266735</td>\n",
       "      <td>2.321149</td>\n",
       "      <td>101.831122</td>\n",
       "      <td>0.062518</td>\n",
       "      <td>0.571363</td>\n",
       "    </tr>\n",
       "    <tr>\n",
       "      <th>std</th>\n",
       "      <td>0.482918</td>\n",
       "      <td>106.863097</td>\n",
       "      <td>0.707476</td>\n",
       "      <td>13.605138</td>\n",
       "      <td>8.780829</td>\n",
       "      <td>0.998613</td>\n",
       "      <td>1.908286</td>\n",
       "      <td>0.579261</td>\n",
       "      <td>0.398561</td>\n",
       "      <td>0.097436</td>\n",
       "      <td>0.175767</td>\n",
       "      <td>0.844336</td>\n",
       "      <td>1.497437</td>\n",
       "      <td>0.652306</td>\n",
       "      <td>110.774548</td>\n",
       "      <td>131.655015</td>\n",
       "      <td>17.594721</td>\n",
       "      <td>50.535790</td>\n",
       "      <td>0.245291</td>\n",
       "      <td>0.792798</td>\n",
       "    </tr>\n",
       "    <tr>\n",
       "      <th>min</th>\n",
       "      <td>0.000000</td>\n",
       "      <td>0.000000</td>\n",
       "      <td>2015.000000</td>\n",
       "      <td>1.000000</td>\n",
       "      <td>1.000000</td>\n",
       "      <td>0.000000</td>\n",
       "      <td>0.000000</td>\n",
       "      <td>0.000000</td>\n",
       "      <td>0.000000</td>\n",
       "      <td>0.000000</td>\n",
       "      <td>0.000000</td>\n",
       "      <td>0.000000</td>\n",
       "      <td>0.000000</td>\n",
       "      <td>0.000000</td>\n",
       "      <td>1.000000</td>\n",
       "      <td>6.000000</td>\n",
       "      <td>0.000000</td>\n",
       "      <td>-6.380000</td>\n",
       "      <td>0.000000</td>\n",
       "      <td>0.000000</td>\n",
       "    </tr>\n",
       "    <tr>\n",
       "      <th>25%</th>\n",
       "      <td>0.000000</td>\n",
       "      <td>18.000000</td>\n",
       "      <td>2016.000000</td>\n",
       "      <td>16.000000</td>\n",
       "      <td>8.000000</td>\n",
       "      <td>0.000000</td>\n",
       "      <td>1.000000</td>\n",
       "      <td>2.000000</td>\n",
       "      <td>0.000000</td>\n",
       "      <td>0.000000</td>\n",
       "      <td>0.000000</td>\n",
       "      <td>0.000000</td>\n",
       "      <td>0.000000</td>\n",
       "      <td>0.000000</td>\n",
       "      <td>9.000000</td>\n",
       "      <td>62.000000</td>\n",
       "      <td>0.000000</td>\n",
       "      <td>69.290000</td>\n",
       "      <td>0.000000</td>\n",
       "      <td>0.000000</td>\n",
       "    </tr>\n",
       "    <tr>\n",
       "      <th>50%</th>\n",
       "      <td>0.000000</td>\n",
       "      <td>69.000000</td>\n",
       "      <td>2016.000000</td>\n",
       "      <td>28.000000</td>\n",
       "      <td>16.000000</td>\n",
       "      <td>1.000000</td>\n",
       "      <td>2.000000</td>\n",
       "      <td>2.000000</td>\n",
       "      <td>0.000000</td>\n",
       "      <td>0.000000</td>\n",
       "      <td>0.000000</td>\n",
       "      <td>0.000000</td>\n",
       "      <td>0.000000</td>\n",
       "      <td>0.000000</td>\n",
       "      <td>14.000000</td>\n",
       "      <td>179.000000</td>\n",
       "      <td>0.000000</td>\n",
       "      <td>94.575000</td>\n",
       "      <td>0.000000</td>\n",
       "      <td>0.000000</td>\n",
       "    </tr>\n",
       "    <tr>\n",
       "      <th>75%</th>\n",
       "      <td>1.000000</td>\n",
       "      <td>160.000000</td>\n",
       "      <td>2017.000000</td>\n",
       "      <td>38.000000</td>\n",
       "      <td>23.000000</td>\n",
       "      <td>2.000000</td>\n",
       "      <td>3.000000</td>\n",
       "      <td>2.000000</td>\n",
       "      <td>0.000000</td>\n",
       "      <td>0.000000</td>\n",
       "      <td>0.000000</td>\n",
       "      <td>0.000000</td>\n",
       "      <td>0.000000</td>\n",
       "      <td>0.000000</td>\n",
       "      <td>229.000000</td>\n",
       "      <td>270.000000</td>\n",
       "      <td>0.000000</td>\n",
       "      <td>126.000000</td>\n",
       "      <td>0.000000</td>\n",
       "      <td>1.000000</td>\n",
       "    </tr>\n",
       "    <tr>\n",
       "      <th>max</th>\n",
       "      <td>1.000000</td>\n",
       "      <td>737.000000</td>\n",
       "      <td>2017.000000</td>\n",
       "      <td>53.000000</td>\n",
       "      <td>31.000000</td>\n",
       "      <td>19.000000</td>\n",
       "      <td>50.000000</td>\n",
       "      <td>55.000000</td>\n",
       "      <td>10.000000</td>\n",
       "      <td>10.000000</td>\n",
       "      <td>1.000000</td>\n",
       "      <td>26.000000</td>\n",
       "      <td>72.000000</td>\n",
       "      <td>21.000000</td>\n",
       "      <td>535.000000</td>\n",
       "      <td>543.000000</td>\n",
       "      <td>391.000000</td>\n",
       "      <td>5400.000000</td>\n",
       "      <td>8.000000</td>\n",
       "      <td>5.000000</td>\n",
       "    </tr>\n",
       "  </tbody>\n",
       "</table>\n",
       "</div>"
      ],
      "text/plain": [
       "         is_canceled      lead_time  arrival_date_year  \\\n",
       "count  119390.000000  119390.000000      119390.000000   \n",
       "mean        0.370416     104.011416        2016.156554   \n",
       "std         0.482918     106.863097           0.707476   \n",
       "min         0.000000       0.000000        2015.000000   \n",
       "25%         0.000000      18.000000        2016.000000   \n",
       "50%         0.000000      69.000000        2016.000000   \n",
       "75%         1.000000     160.000000        2017.000000   \n",
       "max         1.000000     737.000000        2017.000000   \n",
       "\n",
       "       arrival_date_week_number  arrival_date_day_of_month  \\\n",
       "count             119390.000000              119390.000000   \n",
       "mean                  27.165173                  15.798241   \n",
       "std                   13.605138                   8.780829   \n",
       "min                    1.000000                   1.000000   \n",
       "25%                   16.000000                   8.000000   \n",
       "50%                   28.000000                  16.000000   \n",
       "75%                   38.000000                  23.000000   \n",
       "max                   53.000000                  31.000000   \n",
       "\n",
       "       stays_in_weekend_nights  stays_in_week_nights         adults  \\\n",
       "count            119390.000000         119390.000000  119390.000000   \n",
       "mean                  0.927599              2.500302       1.856403   \n",
       "std                   0.998613              1.908286       0.579261   \n",
       "min                   0.000000              0.000000       0.000000   \n",
       "25%                   0.000000              1.000000       2.000000   \n",
       "50%                   1.000000              2.000000       2.000000   \n",
       "75%                   2.000000              3.000000       2.000000   \n",
       "max                  19.000000             50.000000      55.000000   \n",
       "\n",
       "            children         babies  is_repeated_guest  \\\n",
       "count  119386.000000  119390.000000      119390.000000   \n",
       "mean        0.103890       0.007949           0.031912   \n",
       "std         0.398561       0.097436           0.175767   \n",
       "min         0.000000       0.000000           0.000000   \n",
       "25%         0.000000       0.000000           0.000000   \n",
       "50%         0.000000       0.000000           0.000000   \n",
       "75%         0.000000       0.000000           0.000000   \n",
       "max        10.000000      10.000000           1.000000   \n",
       "\n",
       "       previous_cancellations  previous_bookings_not_canceled  \\\n",
       "count           119390.000000                   119390.000000   \n",
       "mean                 0.087118                        0.137097   \n",
       "std                  0.844336                        1.497437   \n",
       "min                  0.000000                        0.000000   \n",
       "25%                  0.000000                        0.000000   \n",
       "50%                  0.000000                        0.000000   \n",
       "75%                  0.000000                        0.000000   \n",
       "max                 26.000000                       72.000000   \n",
       "\n",
       "       booking_changes          agent      company  days_in_waiting_list  \\\n",
       "count    119390.000000  103050.000000  6797.000000         119390.000000   \n",
       "mean          0.221124      86.693382   189.266735              2.321149   \n",
       "std           0.652306     110.774548   131.655015             17.594721   \n",
       "min           0.000000       1.000000     6.000000              0.000000   \n",
       "25%           0.000000       9.000000    62.000000              0.000000   \n",
       "50%           0.000000      14.000000   179.000000              0.000000   \n",
       "75%           0.000000     229.000000   270.000000              0.000000   \n",
       "max          21.000000     535.000000   543.000000            391.000000   \n",
       "\n",
       "                 adr  required_car_parking_spaces  total_of_special_requests  \n",
       "count  119390.000000                119390.000000              119390.000000  \n",
       "mean      101.831122                     0.062518                   0.571363  \n",
       "std        50.535790                     0.245291                   0.792798  \n",
       "min        -6.380000                     0.000000                   0.000000  \n",
       "25%        69.290000                     0.000000                   0.000000  \n",
       "50%        94.575000                     0.000000                   0.000000  \n",
       "75%       126.000000                     0.000000                   1.000000  \n",
       "max      5400.000000                     8.000000                   5.000000  "
      ]
     },
     "execution_count": 3,
     "metadata": {},
     "output_type": "execute_result"
    }
   ],
   "source": [
    "data_copy.describe()"
   ]
  },
  {
   "cell_type": "code",
   "execution_count": 4,
   "metadata": {},
   "outputs": [
    {
     "name": "stdout",
     "output_type": "stream",
     "text": [
      "<class 'pandas.core.frame.DataFrame'>\n",
      "RangeIndex: 119390 entries, 0 to 119389\n",
      "Data columns (total 32 columns):\n",
      " #   Column                          Non-Null Count   Dtype  \n",
      "---  ------                          --------------   -----  \n",
      " 0   hotel                           119390 non-null  object \n",
      " 1   is_canceled                     119390 non-null  int64  \n",
      " 2   lead_time                       119390 non-null  int64  \n",
      " 3   arrival_date_year               119390 non-null  int64  \n",
      " 4   arrival_date_month              119390 non-null  object \n",
      " 5   arrival_date_week_number        119390 non-null  int64  \n",
      " 6   arrival_date_day_of_month       119390 non-null  int64  \n",
      " 7   stays_in_weekend_nights         119390 non-null  int64  \n",
      " 8   stays_in_week_nights            119390 non-null  int64  \n",
      " 9   adults                          119390 non-null  int64  \n",
      " 10  children                        119386 non-null  float64\n",
      " 11  babies                          119390 non-null  int64  \n",
      " 12  meal                            119390 non-null  object \n",
      " 13  country                         118902 non-null  object \n",
      " 14  market_segment                  119390 non-null  object \n",
      " 15  distribution_channel            119390 non-null  object \n",
      " 16  is_repeated_guest               119390 non-null  int64  \n",
      " 17  previous_cancellations          119390 non-null  int64  \n",
      " 18  previous_bookings_not_canceled  119390 non-null  int64  \n",
      " 19  reserved_room_type              119390 non-null  object \n",
      " 20  assigned_room_type              119390 non-null  object \n",
      " 21  booking_changes                 119390 non-null  int64  \n",
      " 22  deposit_type                    119390 non-null  object \n",
      " 23  agent                           103050 non-null  float64\n",
      " 24  company                         6797 non-null    float64\n",
      " 25  days_in_waiting_list            119390 non-null  int64  \n",
      " 26  customer_type                   119390 non-null  object \n",
      " 27  adr                             119390 non-null  float64\n",
      " 28  required_car_parking_spaces     119390 non-null  int64  \n",
      " 29  total_of_special_requests       119390 non-null  int64  \n",
      " 30  reservation_status              119390 non-null  object \n",
      " 31  reservation_status_date         119390 non-null  object \n",
      "dtypes: float64(4), int64(16), object(12)\n",
      "memory usage: 29.1+ MB\n"
     ]
    }
   ],
   "source": [
    "data_copy.info()"
   ]
  },
  {
   "cell_type": "code",
   "execution_count": 5,
   "metadata": {},
   "outputs": [
    {
     "data": {
      "text/html": [
       "<div>\n",
       "<style scoped>\n",
       "    .dataframe tbody tr th:only-of-type {\n",
       "        vertical-align: middle;\n",
       "    }\n",
       "\n",
       "    .dataframe tbody tr th {\n",
       "        vertical-align: top;\n",
       "    }\n",
       "\n",
       "    .dataframe thead th {\n",
       "        text-align: right;\n",
       "    }\n",
       "</style>\n",
       "<table border=\"1\" class=\"dataframe\">\n",
       "  <thead>\n",
       "    <tr style=\"text-align: right;\">\n",
       "      <th></th>\n",
       "      <th>hotel</th>\n",
       "      <th>is_canceled</th>\n",
       "      <th>lead_time</th>\n",
       "      <th>arrival_date_year</th>\n",
       "      <th>arrival_date_month</th>\n",
       "      <th>arrival_date_week_number</th>\n",
       "      <th>arrival_date_day_of_month</th>\n",
       "      <th>stays_in_weekend_nights</th>\n",
       "      <th>stays_in_week_nights</th>\n",
       "      <th>adults</th>\n",
       "      <th>...</th>\n",
       "      <th>deposit_type</th>\n",
       "      <th>agent</th>\n",
       "      <th>company</th>\n",
       "      <th>days_in_waiting_list</th>\n",
       "      <th>customer_type</th>\n",
       "      <th>adr</th>\n",
       "      <th>required_car_parking_spaces</th>\n",
       "      <th>total_of_special_requests</th>\n",
       "      <th>reservation_status</th>\n",
       "      <th>reservation_status_date</th>\n",
       "    </tr>\n",
       "  </thead>\n",
       "  <tbody>\n",
       "    <tr>\n",
       "      <th>0</th>\n",
       "      <td>Resort Hotel</td>\n",
       "      <td>0</td>\n",
       "      <td>342</td>\n",
       "      <td>2015</td>\n",
       "      <td>July</td>\n",
       "      <td>27</td>\n",
       "      <td>1</td>\n",
       "      <td>0</td>\n",
       "      <td>0</td>\n",
       "      <td>2</td>\n",
       "      <td>...</td>\n",
       "      <td>No Deposit</td>\n",
       "      <td>NaN</td>\n",
       "      <td>NaN</td>\n",
       "      <td>0</td>\n",
       "      <td>Transient</td>\n",
       "      <td>0.0</td>\n",
       "      <td>0</td>\n",
       "      <td>0</td>\n",
       "      <td>Check-Out</td>\n",
       "      <td>2015-07-01</td>\n",
       "    </tr>\n",
       "    <tr>\n",
       "      <th>1</th>\n",
       "      <td>Resort Hotel</td>\n",
       "      <td>0</td>\n",
       "      <td>737</td>\n",
       "      <td>2015</td>\n",
       "      <td>July</td>\n",
       "      <td>27</td>\n",
       "      <td>1</td>\n",
       "      <td>0</td>\n",
       "      <td>0</td>\n",
       "      <td>2</td>\n",
       "      <td>...</td>\n",
       "      <td>No Deposit</td>\n",
       "      <td>NaN</td>\n",
       "      <td>NaN</td>\n",
       "      <td>0</td>\n",
       "      <td>Transient</td>\n",
       "      <td>0.0</td>\n",
       "      <td>0</td>\n",
       "      <td>0</td>\n",
       "      <td>Check-Out</td>\n",
       "      <td>2015-07-01</td>\n",
       "    </tr>\n",
       "    <tr>\n",
       "      <th>2</th>\n",
       "      <td>Resort Hotel</td>\n",
       "      <td>0</td>\n",
       "      <td>7</td>\n",
       "      <td>2015</td>\n",
       "      <td>July</td>\n",
       "      <td>27</td>\n",
       "      <td>1</td>\n",
       "      <td>0</td>\n",
       "      <td>1</td>\n",
       "      <td>1</td>\n",
       "      <td>...</td>\n",
       "      <td>No Deposit</td>\n",
       "      <td>NaN</td>\n",
       "      <td>NaN</td>\n",
       "      <td>0</td>\n",
       "      <td>Transient</td>\n",
       "      <td>75.0</td>\n",
       "      <td>0</td>\n",
       "      <td>0</td>\n",
       "      <td>Check-Out</td>\n",
       "      <td>2015-07-02</td>\n",
       "    </tr>\n",
       "    <tr>\n",
       "      <th>3</th>\n",
       "      <td>Resort Hotel</td>\n",
       "      <td>0</td>\n",
       "      <td>13</td>\n",
       "      <td>2015</td>\n",
       "      <td>July</td>\n",
       "      <td>27</td>\n",
       "      <td>1</td>\n",
       "      <td>0</td>\n",
       "      <td>1</td>\n",
       "      <td>1</td>\n",
       "      <td>...</td>\n",
       "      <td>No Deposit</td>\n",
       "      <td>304.0</td>\n",
       "      <td>NaN</td>\n",
       "      <td>0</td>\n",
       "      <td>Transient</td>\n",
       "      <td>75.0</td>\n",
       "      <td>0</td>\n",
       "      <td>0</td>\n",
       "      <td>Check-Out</td>\n",
       "      <td>2015-07-02</td>\n",
       "    </tr>\n",
       "    <tr>\n",
       "      <th>4</th>\n",
       "      <td>Resort Hotel</td>\n",
       "      <td>0</td>\n",
       "      <td>14</td>\n",
       "      <td>2015</td>\n",
       "      <td>July</td>\n",
       "      <td>27</td>\n",
       "      <td>1</td>\n",
       "      <td>0</td>\n",
       "      <td>2</td>\n",
       "      <td>2</td>\n",
       "      <td>...</td>\n",
       "      <td>No Deposit</td>\n",
       "      <td>240.0</td>\n",
       "      <td>NaN</td>\n",
       "      <td>0</td>\n",
       "      <td>Transient</td>\n",
       "      <td>98.0</td>\n",
       "      <td>0</td>\n",
       "      <td>1</td>\n",
       "      <td>Check-Out</td>\n",
       "      <td>2015-07-03</td>\n",
       "    </tr>\n",
       "  </tbody>\n",
       "</table>\n",
       "<p>5 rows × 32 columns</p>\n",
       "</div>"
      ],
      "text/plain": [
       "          hotel  is_canceled  lead_time  arrival_date_year arrival_date_month  \\\n",
       "0  Resort Hotel            0        342               2015               July   \n",
       "1  Resort Hotel            0        737               2015               July   \n",
       "2  Resort Hotel            0          7               2015               July   \n",
       "3  Resort Hotel            0         13               2015               July   \n",
       "4  Resort Hotel            0         14               2015               July   \n",
       "\n",
       "   arrival_date_week_number  arrival_date_day_of_month  \\\n",
       "0                        27                          1   \n",
       "1                        27                          1   \n",
       "2                        27                          1   \n",
       "3                        27                          1   \n",
       "4                        27                          1   \n",
       "\n",
       "   stays_in_weekend_nights  stays_in_week_nights  adults  ...  deposit_type  \\\n",
       "0                        0                     0       2  ...    No Deposit   \n",
       "1                        0                     0       2  ...    No Deposit   \n",
       "2                        0                     1       1  ...    No Deposit   \n",
       "3                        0                     1       1  ...    No Deposit   \n",
       "4                        0                     2       2  ...    No Deposit   \n",
       "\n",
       "   agent company days_in_waiting_list customer_type   adr  \\\n",
       "0    NaN     NaN                    0     Transient   0.0   \n",
       "1    NaN     NaN                    0     Transient   0.0   \n",
       "2    NaN     NaN                    0     Transient  75.0   \n",
       "3  304.0     NaN                    0     Transient  75.0   \n",
       "4  240.0     NaN                    0     Transient  98.0   \n",
       "\n",
       "   required_car_parking_spaces  total_of_special_requests  reservation_status  \\\n",
       "0                            0                          0           Check-Out   \n",
       "1                            0                          0           Check-Out   \n",
       "2                            0                          0           Check-Out   \n",
       "3                            0                          0           Check-Out   \n",
       "4                            0                          1           Check-Out   \n",
       "\n",
       "  reservation_status_date  \n",
       "0              2015-07-01  \n",
       "1              2015-07-01  \n",
       "2              2015-07-02  \n",
       "3              2015-07-02  \n",
       "4              2015-07-03  \n",
       "\n",
       "[5 rows x 32 columns]"
      ]
     },
     "execution_count": 5,
     "metadata": {},
     "output_type": "execute_result"
    }
   ],
   "source": [
    "data_copy.head()"
   ]
  },
  {
   "cell_type": "markdown",
   "metadata": {},
   "source": [
    "## 1. 数据清洗\n",
    "- 空值填充。针对离散数据用众数填充，\n",
    "- 删除无效信息列agent及company\n",
    "- 构建工作日过夜数\n",
    "- 转换object数据为int"
   ]
  },
  {
   "cell_type": "code",
   "execution_count": 6,
   "metadata": {},
   "outputs": [],
   "source": [
    "data_copy['children'].fillna(data_copy['children'].mode()[0],inplace=True)\n",
    "data_copy['country'].fillna(data_copy['country'].mode()[0],inplace=True)"
   ]
  },
  {
   "cell_type": "code",
   "execution_count": 7,
   "metadata": {},
   "outputs": [],
   "source": [
    "# 删除agent和company列\n",
    "drop_colums = ['agent', 'company']\n",
    "data_copy.drop(drop_colums, axis=1, inplace=True)"
   ]
  },
  {
   "cell_type": "code",
   "execution_count": 8,
   "metadata": {},
   "outputs": [],
   "source": [
    "# 构建工作日过夜数\n",
    "data_copy['stays_in_weekday_nights'] = data_copy['stays_in_week_nights']-data_copy['stays_in_weekend_nights']"
   ]
  },
  {
   "cell_type": "code",
   "execution_count": 9,
   "metadata": {},
   "outputs": [
    {
     "name": "stdout",
     "output_type": "stream",
     "text": [
      "<class 'pandas.core.frame.DataFrame'>\n",
      "RangeIndex: 119390 entries, 0 to 119389\n",
      "Data columns (total 31 columns):\n",
      " #   Column                          Non-Null Count   Dtype  \n",
      "---  ------                          --------------   -----  \n",
      " 0   hotel                           119390 non-null  object \n",
      " 1   is_canceled                     119390 non-null  int64  \n",
      " 2   lead_time                       119390 non-null  int64  \n",
      " 3   arrival_date_year               119390 non-null  int64  \n",
      " 4   arrival_date_month              119390 non-null  object \n",
      " 5   arrival_date_week_number        119390 non-null  int64  \n",
      " 6   arrival_date_day_of_month       119390 non-null  int64  \n",
      " 7   stays_in_weekend_nights         119390 non-null  int64  \n",
      " 8   stays_in_week_nights            119390 non-null  int64  \n",
      " 9   adults                          119390 non-null  int64  \n",
      " 10  children                        119390 non-null  float64\n",
      " 11  babies                          119390 non-null  int64  \n",
      " 12  meal                            119390 non-null  object \n",
      " 13  country                         119390 non-null  object \n",
      " 14  market_segment                  119390 non-null  object \n",
      " 15  distribution_channel            119390 non-null  object \n",
      " 16  is_repeated_guest               119390 non-null  int64  \n",
      " 17  previous_cancellations          119390 non-null  int64  \n",
      " 18  previous_bookings_not_canceled  119390 non-null  int64  \n",
      " 19  reserved_room_type              119390 non-null  object \n",
      " 20  assigned_room_type              119390 non-null  object \n",
      " 21  booking_changes                 119390 non-null  int64  \n",
      " 22  deposit_type                    119390 non-null  object \n",
      " 23  days_in_waiting_list            119390 non-null  int64  \n",
      " 24  customer_type                   119390 non-null  object \n",
      " 25  adr                             119390 non-null  float64\n",
      " 26  required_car_parking_spaces     119390 non-null  int64  \n",
      " 27  total_of_special_requests       119390 non-null  int64  \n",
      " 28  reservation_status              119390 non-null  object \n",
      " 29  reservation_status_date         119390 non-null  object \n",
      " 30  stays_in_weekday_nights         119390 non-null  int64  \n",
      "dtypes: float64(2), int64(17), object(12)\n",
      "memory usage: 28.2+ MB\n"
     ]
    }
   ],
   "source": [
    "data_copy.info()"
   ]
  },
  {
   "cell_type": "code",
   "execution_count": 10,
   "metadata": {},
   "outputs": [],
   "source": [
    "# object转换为int\n",
    "label = LabelEncoder()\n",
    "data_copy['hotel_code'] = label.fit_transform(data_copy['hotel'])\n",
    "data_copy['meal_code'] = label.fit_transform(data_copy['meal'])\n",
    "data_copy['country_code'] = label.fit_transform(data_copy['country'])\n",
    "data_copy['market_segment_code'] = label.fit_transform(data_copy['market_segment'])\n",
    "data_copy['distribution_channel_code'] = label.fit_transform(data_copy['distribution_channel'])\n",
    "data_copy['reserved_room_type_code'] = label.fit_transform(data_copy['reserved_room_type'])\n",
    "data_copy['assigned_room_type_code'] = label.fit_transform(data_copy['assigned_room_type'])\n",
    "data_copy['deposit_type_code'] = label.fit_transform(data_copy['deposit_type'])\n",
    "data_copy['customer_type_code'] = label.fit_transform(data_copy['customer_type'])\n",
    "data_copy['reservation_status_code'] = label.fit_transform(data_copy['reservation_status'])\n",
    "data_copy['reservation_status_date_code'] = label.fit_transform(data_copy['reservation_status_date'])"
   ]
  },
  {
   "cell_type": "code",
   "execution_count": 11,
   "metadata": {},
   "outputs": [
    {
     "name": "stdout",
     "output_type": "stream",
     "text": [
      "<class 'pandas.core.frame.DataFrame'>\n",
      "RangeIndex: 119390 entries, 0 to 119389\n",
      "Data columns (total 42 columns):\n",
      " #   Column                          Non-Null Count   Dtype  \n",
      "---  ------                          --------------   -----  \n",
      " 0   hotel                           119390 non-null  object \n",
      " 1   is_canceled                     119390 non-null  int64  \n",
      " 2   lead_time                       119390 non-null  int64  \n",
      " 3   arrival_date_year               119390 non-null  int64  \n",
      " 4   arrival_date_month              119390 non-null  object \n",
      " 5   arrival_date_week_number        119390 non-null  int64  \n",
      " 6   arrival_date_day_of_month       119390 non-null  int64  \n",
      " 7   stays_in_weekend_nights         119390 non-null  int64  \n",
      " 8   stays_in_week_nights            119390 non-null  int64  \n",
      " 9   adults                          119390 non-null  int64  \n",
      " 10  children                        119390 non-null  float64\n",
      " 11  babies                          119390 non-null  int64  \n",
      " 12  meal                            119390 non-null  object \n",
      " 13  country                         119390 non-null  object \n",
      " 14  market_segment                  119390 non-null  object \n",
      " 15  distribution_channel            119390 non-null  object \n",
      " 16  is_repeated_guest               119390 non-null  int64  \n",
      " 17  previous_cancellations          119390 non-null  int64  \n",
      " 18  previous_bookings_not_canceled  119390 non-null  int64  \n",
      " 19  reserved_room_type              119390 non-null  object \n",
      " 20  assigned_room_type              119390 non-null  object \n",
      " 21  booking_changes                 119390 non-null  int64  \n",
      " 22  deposit_type                    119390 non-null  object \n",
      " 23  days_in_waiting_list            119390 non-null  int64  \n",
      " 24  customer_type                   119390 non-null  object \n",
      " 25  adr                             119390 non-null  float64\n",
      " 26  required_car_parking_spaces     119390 non-null  int64  \n",
      " 27  total_of_special_requests       119390 non-null  int64  \n",
      " 28  reservation_status              119390 non-null  object \n",
      " 29  reservation_status_date         119390 non-null  object \n",
      " 30  stays_in_weekday_nights         119390 non-null  int64  \n",
      " 31  hotel_code                      119390 non-null  int32  \n",
      " 32  meal_code                       119390 non-null  int32  \n",
      " 33  country_code                    119390 non-null  int32  \n",
      " 34  market_segment_code             119390 non-null  int32  \n",
      " 35  distribution_channel_code       119390 non-null  int32  \n",
      " 36  reserved_room_type_code         119390 non-null  int32  \n",
      " 37  assigned_room_type_code         119390 non-null  int32  \n",
      " 38  deposit_type_code               119390 non-null  int32  \n",
      " 39  customer_type_code              119390 non-null  int32  \n",
      " 40  reservation_status_code         119390 non-null  int32  \n",
      " 41  reservation_status_date_code    119390 non-null  int32  \n",
      "dtypes: float64(2), int32(11), int64(17), object(12)\n",
      "memory usage: 33.2+ MB\n"
     ]
    }
   ],
   "source": [
    "data_copy.info()"
   ]
  },
  {
   "cell_type": "markdown",
   "metadata": {},
   "source": [
    "## 2.城市酒店和假日酒店预订需求和入住率比较\n",
    "### 2.1 预定需求\n",
    "一年中最佳预订酒店时间；\n",
    "利用Logistic预测酒店预订。"
   ]
  },
  {
   "cell_type": "code",
   "execution_count": 12,
   "metadata": {
    "scrolled": true
   },
   "outputs": [
    {
     "name": "stdout",
     "output_type": "stream",
     "text": [
      "num_booking_rh:  80510.0\n",
      "num_booking_ch:  154478.0\n",
      "booking_rate_rh:  2.009735396904643\n",
      "booking_rate_ch:  1.9472834993066936\n"
     ]
    }
   ],
   "source": [
    "# 比较城市酒店与假日酒店的预订需求，即为预订率（预订总人数/总的酒店数）\n",
    "people = ['adults','children','babies']\n",
    "num_booking_ch = data_copy.groupby(by='hotel')[people].sum().sum(axis=1)[0]\n",
    "num_ch = data_copy['hotel'].value_counts()[0]\n",
    "booking_rate_ch = num_booking_ch/num_ch # 假日酒店预订需求\n",
    "\n",
    "num_booking_rh = data_copy.groupby(by='hotel')[people].sum().sum(axis=1)[1]\n",
    "num_rh = data_copy['hotel'].value_counts()[1]\n",
    "booking_rate_rh = num_booking_rh/num_rh # 城市酒店预订需求\n",
    "print('num_booking_rh: ',num_booking_rh)\n",
    "print('num_booking_ch: ',num_booking_ch)\n",
    "print('booking_rate_rh: ',booking_rate_rh)\n",
    "print('booking_rate_ch: ',booking_rate_ch)"
   ]
  },
  {
   "cell_type": "markdown",
   "metadata": {},
   "source": [
    "### 针对预定需求，统计了预定总人数占相应酒店数的比率，可以看出城市酒店预订人数大约为假日酒店的2倍，但由于城市酒店数多，导致假日酒店的预订率稍高于城市酒店。\n",
    "### 2.2  入住率"
   ]
  },
  {
   "cell_type": "code",
   "execution_count": 13,
   "metadata": {},
   "outputs": [
    {
     "data": {
      "text/plain": [
       "(Check-Out    75166\n",
       " Canceled     43017\n",
       " No-Show       1207\n",
       " Name: reservation_status, dtype: int64,\n",
       " 1    75166\n",
       " 0    43017\n",
       " 2     1207\n",
       " Name: reservation_status_code, dtype: int64)"
      ]
     },
     "execution_count": 13,
     "metadata": {},
     "output_type": "execute_result"
    }
   ],
   "source": [
    "data_copy['reservation_status'].value_counts(),data_copy['reservation_status_code'].value_counts()"
   ]
  },
  {
   "cell_type": "code",
   "execution_count": 14,
   "metadata": {
    "scrolled": true
   },
   "outputs": [
    {
     "data": {
      "text/plain": [
       "hotel\n",
       "City Hotel      46228\n",
       "Resort Hotel    28938\n",
       "Name: reservation_status_code, dtype: int64"
      ]
     },
     "execution_count": 14,
     "metadata": {},
     "output_type": "execute_result"
    }
   ],
   "source": [
    "data_copy.loc[data_copy['reservation_status_code']==1,:].groupby(by='hotel')['reservation_status_code'].count()"
   ]
  },
  {
   "cell_type": "code",
   "execution_count": 15,
   "metadata": {
    "scrolled": false
   },
   "outputs": [
    {
     "name": "stdout",
     "output_type": "stream",
     "text": [
      "num_checkout_rh:  28938\n",
      "num_checkout_ch:  46228\n",
      "checkin_rate_rh:  0.35943361073158614\n",
      "checkin_rate_ch:  0.29925296806017687\n"
     ]
    }
   ],
   "source": [
    "## 比较城市酒店与假日酒店入住率（入住人数/预订人数）\n",
    "# 假日酒店\n",
    "# check-out-1,canceled-0,no-show-2,统计code为1的\n",
    "num_checkout_rh = data_copy.loc[data_copy['reservation_status_code']==1, :].groupby(by='hotel')['reservation_status_code'].count()[1]\n",
    "checkin_rate_rh = num_checkout_rh/num_booking_rh #假日酒店入住率\n",
    "\n",
    "# 城市酒店\n",
    "num_checkout_ch = data_copy.loc[data_copy['reservation_status_code']==1, :].groupby(by='hotel')['reservation_status_code'].count()[0]\n",
    "checkin_rate_ch = num_checkout_ch/num_booking_ch # 城市酒店入住率\n",
    "print('num_checkout_rh: ',num_checkout_rh)\n",
    "print('num_checkout_ch: ',num_checkout_ch)\n",
    "print('checkin_rate_rh: ',checkin_rate_rh)\n",
    "print('checkin_rate_ch: ',checkin_rate_ch)"
   ]
  },
  {
   "cell_type": "markdown",
   "metadata": {},
   "source": [
    "- 城市酒店入住总人数大约为假日酒店的1.5倍，然而城市酒店的入住率低于假日酒店"
   ]
  },
  {
   "cell_type": "markdown",
   "metadata": {},
   "source": [
    "\n",
    "## 3. 用户行为：提前预订时间、入住时长、预订间隔、餐食预订情况\n",
    "### 3.1 提前预定时间"
   ]
  },
  {
   "cell_type": "code",
   "execution_count": 16,
   "metadata": {
    "scrolled": true
   },
   "outputs": [
    {
     "data": {
      "text/plain": [
       "(City Hotel      79330\n",
       " Resort Hotel    40060\n",
       " Name: hotel, dtype: int64,\n",
       " 0    79330\n",
       " 1    40060\n",
       " Name: hotel_code, dtype: int64)"
      ]
     },
     "execution_count": 16,
     "metadata": {},
     "output_type": "execute_result"
    }
   ],
   "source": [
    "data_copy['hotel'].value_counts(),data_copy['hotel_code'].value_counts()"
   ]
  },
  {
   "cell_type": "code",
   "execution_count": 17,
   "metadata": {},
   "outputs": [
    {
     "data": {
      "image/png": "[encoded data removed]",
      "text/plain": [
       "<Figure size 432x288 with 1 Axes>"
      ]
     },
     "metadata": {
      "needs_background": "light"
     },
     "output_type": "display_data"
    }
   ],
   "source": [
    "## 提前预订时长分析\n",
    "lead_time_all = data_copy['lead_time']\n",
    "lead_time_rh = data_copy.loc[data_copy['hotel_code']==1, 'lead_time']\n",
    "lead_time_ch = data_copy.loc[data_copy['hotel_code']==0, 'lead_time']\n",
    "lead_time = [lead_time_all, lead_time_rh, lead_time_ch]\n",
    "\n",
    "# 可视化\n",
    "labels = ['Both', 'Restore hotel', 'City hotel']\n",
    "\n",
    "fig, ax = plt.subplots()\n",
    "\n",
    "ax.boxplot(lead_time)\n",
    "\n",
    "ax.set_xticklabels(labels)\n",
    "ax.set_ylabel('Period')\n",
    "ax.set_title('Booking period')\n",
    "\n",
    "plt.show()"
   ]
  },
  {
   "cell_type": "markdown",
   "metadata": {},
   "source": [
    "城市酒店的平均提前预定时间大于假日酒店，在75%-100%分位之后的值分布种，城市酒店预定时长分布更加均匀，可能是由于假日酒店顾客种类单一，一般都会做好提前订酒店的打算，而城市酒店可能有较多临时情况的发生。\n",
    "### 3.2 入住时长\n",
    "入住时长=周末过夜数+工作日过夜数"
   ]
  },
  {
   "cell_type": "code",
   "execution_count": 18,
   "metadata": {},
   "outputs": [
    {
     "data": {
      "image/png": "[encoded data removed]",
      "text/plain": [
       "<Figure size 1440x720 with 3 Axes>"
      ]
     },
     "metadata": {
      "needs_background": "light"
     },
     "output_type": "display_data"
    }
   ],
   "source": [
    "# 假日酒店入住时长\n",
    "days_weekday_rh = data_copy.loc[data_copy['hotel_code']==1, 'stays_in_weekday_nights']\n",
    "days_weekend_rh = data_copy.loc[data_copy['hotel_code']==1, 'stays_in_weekend_nights']\n",
    "days_week_rh = data_copy.loc[data_copy['hotel_code']==1, 'stays_in_week_nights']\n",
    "days_rh = [days_weekday_rh, days_weekend_rh, days_week_rh]\n",
    "\n",
    "# 城市酒店入住时长\n",
    "days_weekday_ch = data_copy.loc[data_copy['hotel_code']==0, 'stays_in_weekday_nights']\n",
    "days_weekend_ch = data_copy.loc[data_copy['hotel_code']==0, 'stays_in_weekend_nights']\n",
    "days_week_ch = data_copy.loc[data_copy['hotel_code']==0, 'stays_in_week_nights']\n",
    "days_ch = [days_weekday_ch, days_weekend_ch, days_week_ch]\n",
    "# 总的入住时长\n",
    "days_weekday_all = data_copy['stays_in_weekday_nights']\n",
    "days_weekend_all = data_copy['stays_in_weekend_nights']\n",
    "days_week_all = data_copy['stays_in_week_nights']\n",
    "days_all = [days_weekday_all, days_weekend_all, days_week_all]\n",
    "\n",
    "# 入住时长可视化\n",
    "\n",
    "fig, axs = plt.subplots(1, 3,figsize=(20,10))\n",
    "labels = ['Weekday', 'Weekend', 'Week']\n",
    "\n",
    "# 假日酒店\n",
    "axs[0].boxplot(days_rh)\n",
    "axs[0].set_xticklabels(labels)\n",
    "axs[0].set_ylabel('Period')\n",
    "axs[0].set_title('days in Restore hotel')\n",
    "\n",
    "# 城市酒店\n",
    "axs[1].boxplot(days_ch)\n",
    "axs[1].set_xticklabels(labels)\n",
    "axs[1].set_ylabel('Period')\n",
    "axs[1].set_title('days in City hotel')\n",
    "\n",
    "# 总的入住时长\n",
    "axs[2].boxplot(days_all)\n",
    "axs[2].set_xticklabels(labels)\n",
    "axs[2].set_ylabel('Period')\n",
    "axs[2].set_title('days in Both')\n",
    "plt.show()"
   ]
  },
  {
   "cell_type": "markdown",
   "metadata": {},
   "source": [
    "假日酒店周一-周五的平均入住时长明显高于周六周日的入住时长，在城市酒店中两者相差不明显。可能是由于游客选择在假期出游，假日酒店的入住时长连续较长，导致时长多于周六周日。而选择城市酒店的客户大多为事务所需，工作日入住时长并无太大差距。\n",
    "### 3.3 预定间隔"
   ]
  },
  {
   "cell_type": "code",
   "execution_count": 19,
   "metadata": {},
   "outputs": [
    {
     "data": {
      "text/plain": [
       "count    119390.000000\n",
       "mean          2.321149\n",
       "std          17.594721\n",
       "min           0.000000\n",
       "25%           0.000000\n",
       "50%           0.000000\n",
       "75%           0.000000\n",
       "max         391.000000\n",
       "Name: days_in_waiting_list, dtype: float64"
      ]
     },
     "execution_count": 19,
     "metadata": {},
     "output_type": "execute_result"
    }
   ],
   "source": [
    "data_copy['days_in_waiting_list'].describe()"
   ]
  },
  {
   "cell_type": "markdown",
   "metadata": {},
   "source": [
    "平均预定间隔为2，最小值为0，最大值为391，多数时间很短。\n",
    "### 3.4 餐食预订情况"
   ]
  },
  {
   "cell_type": "code",
   "execution_count": 20,
   "metadata": {
    "scrolled": false
   },
   "outputs": [
    {
     "data": {
      "text/plain": [
       "Text(0.5, 1.0, 'Uncanceled')"
      ]
     },
     "execution_count": 20,
     "metadata": {},
     "output_type": "execute_result"
    },
    {
     "data": {
      "image/png": "[encoded data removed]",
      "text/plain": [
       "<Figure size 864x432 with 2 Axes>"
      ]
     },
     "metadata": {},
     "output_type": "display_data"
    }
   ],
   "source": [
    "plt.figure(figsize=(12, 6))\n",
    "plt.subplot(121)\n",
    "plt.pie(data_copy[data_copy['is_canceled'] == 1].meal.value_counts(),\n",
    "        labels=data_copy[data_copy['is_canceled'] == 1].meal.value_counts().index,\n",
    "        autopct=\"%.2f%%\")\n",
    "plt.legend(loc=1)\n",
    "plt.title('Canceled')\n",
    "plt.subplot(122)\n",
    "plt.pie(data_copy[data_copy['is_canceled'] == 0].meal.value_counts(),\n",
    "        labels=data_copy[data_copy['is_canceled'] == 0].meal.value_counts().index,\n",
    "        autopct=\"%.2f%%\")\n",
    "plt.legend(loc=1)\n",
    "plt.title('Uncanceled')"
   ]
  },
  {
   "cell_type": "markdown",
   "metadata": {},
   "source": [
    "- 上图统计了餐食类型对取消预订的关系，表明无论是否取消，餐食类型间差异不大。下面考虑不同酒店类型的餐食分布情况。"
   ]
  },
  {
   "cell_type": "code",
   "execution_count": 21,
   "metadata": {
    "scrolled": true
   },
   "outputs": [
    {
     "data": {
      "text/plain": [
       "(BB           92310\n",
       " HB           14463\n",
       " SC           10650\n",
       " Undefined     1169\n",
       " FB             798\n",
       " Name: meal, dtype: int64,\n",
       " 0    92310\n",
       " 1      798\n",
       " 2    14463\n",
       " 3    10650\n",
       " 4     1169\n",
       " Name: meal_code, dtype: int64)"
      ]
     },
     "execution_count": 21,
     "metadata": {},
     "output_type": "execute_result"
    }
   ],
   "source": [
    "data_copy['meal'].value_counts(),data_copy['meal_code'].value_counts(sort=False)"
   ]
  },
  {
   "cell_type": "code",
   "execution_count": 22,
   "metadata": {
    "scrolled": false
   },
   "outputs": [
    {
     "data": {
      "image/png": "[encoded data removed]",
      "text/plain": [
       "<Figure size 432x288 with 1 Axes>"
      ]
     },
     "metadata": {
      "needs_background": "light"
     },
     "output_type": "display_data"
    }
   ],
   "source": [
    "# 餐食预订分析\n",
    "labels = ['BB','FB','HB','SC' ]\n",
    "meal_rh = data_copy.loc[data_copy['hotel_code']==1,'meal'].value_counts(sort=False)\n",
    "meal_ch = data_copy.loc[data_copy['hotel_code']==0,'meal'].value_counts(sort=False)\n",
    "meal_rh.drop('Undefined',inplace=True)# 删除假日酒店多余的Undefined属性\n",
    "df = pd.DataFrame({'meal_rh':meal_rh,'meal_ch':meal_ch})\n",
    "meal_rh = df['meal_rh'].to_list()\n",
    "meal_ch = df['meal_ch'].to_list()\n",
    "\n",
    "x = np.arange(len(labels))\n",
    "width = 0.35\n",
    "\n",
    "fig, ax = plt.subplots()\n",
    "rect1 = ax.bar(x-width/2, meal_rh, width, label='meal_rh')\n",
    "rect2 = ax.bar(x+width/2, meal_ch, width, label='meal_ch')\n",
    "\n",
    "ax.set_ylabel('Number of perple')\n",
    "ax.set_xticks(x)\n",
    "ax.set_xticklabels(labels)\n",
    "ax.set_xlabel('Meal')\n",
    "ax.legend()\n",
    "plt.show()"
   ]
  },
  {
   "cell_type": "markdown",
   "metadata": {},
   "source": [
    "不论是城市酒店还是假日酒店，只订早餐的客户都占比最多，其中假日酒店更多的客户选择订早晚餐和三餐，城市酒店客户更多不订餐食。可能的原因是度假客户长期性居住酒店从而预订早晚甚至三餐，而城市酒店客户多为事务所需而短暂停留，从而只预订早餐居多。\n",
    "## 4. 一年中最佳预订时间\n",
    "- 根据预订人数多少确定最佳预订时间"
   ]
  },
  {
   "cell_type": "code",
   "execution_count": 23,
   "metadata": {
    "scrolled": true
   },
   "outputs": [
    {
     "data": {
      "image/png": "[encoded data removed]",
      "text/plain": [
       "<Figure size 432x288 with 1 Axes>"
      ]
     },
     "metadata": {
      "needs_background": "light"
     },
     "output_type": "display_data"
    },
    {
     "data": {
      "image/png": "[encoded data removed]",
      "text/plain": [
       "<Figure size 1080x720 with 1 Axes>"
      ]
     },
     "metadata": {
      "needs_background": "light"
     },
     "output_type": "display_data"
    }
   ],
   "source": [
    "new_order = ['January', 'February', 'March', 'April', 'May', 'June', 'July', 'August', 'September', 'October', 'November', 'December']\n",
    "# 按月份分别计算预订人数\n",
    "people = ['adults','children','babies']\n",
    "booking_time_per_month = data_copy.groupby(by='arrival_date_month')[people].sum().sum(axis=1)[new_order]\n",
    "booking_time_per_month_rh = data_copy.loc[data_copy['hotel_code']==1, :].groupby(by='arrival_date_month')[people].sum().sum(axis=1)[new_order]\n",
    "booking_time_per_month_ch = data_copy.loc[data_copy['hotel_code']==0, :].groupby(by='arrival_date_month')[people].sum().sum(axis=1)[new_order]\n",
    "df = pd.DataFrame({'month':booking_time_per_month,'rh':booking_time_per_month_rh,'ch':booking_time_per_month_ch})\n",
    "booking_time_per_month = df['month'].to_list()\n",
    "booking_time_per_month_rh = df['rh'].to_list()\n",
    "booking_time_per_month_ch = df['ch'].to_list()\n",
    "# 按月份可视化预订时间\n",
    "x = np.arange(len(new_order))\n",
    "width = 0.2\n",
    "fig, ax = plt.subplots()\n",
    "\n",
    "ax.bar(x-width, booking_time_per_month, width, label='Both')\n",
    "ax.bar(x, booking_time_per_month_rh, width, label='Restore hotel')\n",
    "ax.bar(x+width, booking_time_per_month_ch, width, label='City hotel')\n",
    "\n",
    "ax.set_title('月预订人数统计')\n",
    "ax.set_xticks(x)\n",
    "ax.set_xticklabels(new_order)\n",
    "ax.set_xlabel('Month')\n",
    "ax.set_ylabel('Number of perple')\n",
    "plt.show()\n",
    "\n",
    "# 按周数分别计算预订人数\n",
    "booking_time_per_week = data_copy.groupby(by='arrival_date_week_number')[people].sum().sum(axis=1).to_list()\n",
    "booking_time_per_week_rh = data_copy.loc[data_copy['hotel_code']==1, :].groupby(by='arrival_date_week_number')[\n",
    "    people].sum().sum(axis=1).to_list()\n",
    "booking_time_per_week_ch = data_copy.loc[data_copy['hotel_code']==0, :].groupby(by='arrival_date_week_number')[\n",
    "    people].sum().sum(axis=1).to_list()\n",
    "\n",
    "# 按照周数可是化预订人数\n",
    "labels = list(np.arange(1, 54, 1))\n",
    "x = np.arange(len(labels))\n",
    "width = 0.2\n",
    "fig, ax = plt.subplots(figsize=(15,10))\n",
    "\n",
    "ax.bar(x-width, booking_time_per_week, width, label='Two hotels')\n",
    "ax.bar(x, booking_time_per_week_rh, width, label='Restore hotel')\n",
    "ax.bar(x+width, booking_time_per_week_ch, width, label='City hotel')\n",
    "\n",
    "ax.set_title('周预订人数统计')\n",
    "ax.set_xticks(x)\n",
    "ax.set_xticklabels(labels)\n",
    "ax.set_xlabel('Week')\n",
    "ax.set_ylabel('Number of perple')\n",
    "ax.legend()\n",
    "\n",
    "plt.show()"
   ]
  },
  {
   "cell_type": "markdown",
   "metadata": {},
   "source": [
    "通过绘制不同酒店类型在每月，每周的预定人数统计，观察后得到如下结论：\n",
    "\n",
    "从月预订人数看，\n",
    "- 总体上预订人数在7，8月达到最大，并逐次向两端递减\n",
    "- 城市酒店的最佳预订时间为1，2，11，12月，期间预订人数较少\n",
    "- 假日酒店的最佳预订时间为1，11月，可能由于这两个月为旅游淡季，不过整体上看假日酒店的全年预订量基本保持均衡\n",
    "\n",
    "从周预订人数看，\n",
    "- 年末的最后两周预订率较之前有小幅度增长，可能由于度假或年末事务频繁导致\n"
   ]
  },
  {
   "cell_type": "markdown",
   "metadata": {},
   "source": [
    "## 5.预测酒店预订\n",
    "- 选取一些与客户预订有关的属性作为特征，将数据分为训练集和测试集\n",
    "- 将数据进行特征缩放后使用LogisticRegression进行模型训练和数据预测，得到预测准确率为98.8%"
   ]
  },
  {
   "cell_type": "code",
   "execution_count": 24,
   "metadata": {
    "scrolled": true
   },
   "outputs": [
    {
     "name": "stdout",
     "output_type": "stream",
     "text": [
      "<class 'pandas.core.frame.DataFrame'>\n",
      "RangeIndex: 119390 entries, 0 to 119389\n",
      "Data columns (total 42 columns):\n",
      " #   Column                          Non-Null Count   Dtype  \n",
      "---  ------                          --------------   -----  \n",
      " 0   hotel                           119390 non-null  object \n",
      " 1   is_canceled                     119390 non-null  int64  \n",
      " 2   lead_time                       119390 non-null  int64  \n",
      " 3   arrival_date_year               119390 non-null  int64  \n",
      " 4   arrival_date_month              119390 non-null  object \n",
      " 5   arrival_date_week_number        119390 non-null  int64  \n",
      " 6   arrival_date_day_of_month       119390 non-null  int64  \n",
      " 7   stays_in_weekend_nights         119390 non-null  int64  \n",
      " 8   stays_in_week_nights            119390 non-null  int64  \n",
      " 9   adults                          119390 non-null  int64  \n",
      " 10  children                        119390 non-null  float64\n",
      " 11  babies                          119390 non-null  int64  \n",
      " 12  meal                            119390 non-null  object \n",
      " 13  country                         119390 non-null  object \n",
      " 14  market_segment                  119390 non-null  object \n",
      " 15  distribution_channel            119390 non-null  object \n",
      " 16  is_repeated_guest               119390 non-null  int64  \n",
      " 17  previous_cancellations          119390 non-null  int64  \n",
      " 18  previous_bookings_not_canceled  119390 non-null  int64  \n",
      " 19  reserved_room_type              119390 non-null  object \n",
      " 20  assigned_room_type              119390 non-null  object \n",
      " 21  booking_changes                 119390 non-null  int64  \n",
      " 22  deposit_type                    119390 non-null  object \n",
      " 23  days_in_waiting_list            119390 non-null  int64  \n",
      " 24  customer_type                   119390 non-null  object \n",
      " 25  adr                             119390 non-null  float64\n",
      " 26  required_car_parking_spaces     119390 non-null  int64  \n",
      " 27  total_of_special_requests       119390 non-null  int64  \n",
      " 28  reservation_status              119390 non-null  object \n",
      " 29  reservation_status_date         119390 non-null  object \n",
      " 30  stays_in_weekday_nights         119390 non-null  int64  \n",
      " 31  hotel_code                      119390 non-null  int32  \n",
      " 32  meal_code                       119390 non-null  int32  \n",
      " 33  country_code                    119390 non-null  int32  \n",
      " 34  market_segment_code             119390 non-null  int32  \n",
      " 35  distribution_channel_code       119390 non-null  int32  \n",
      " 36  reserved_room_type_code         119390 non-null  int32  \n",
      " 37  assigned_room_type_code         119390 non-null  int32  \n",
      " 38  deposit_type_code               119390 non-null  int32  \n",
      " 39  customer_type_code              119390 non-null  int32  \n",
      " 40  reservation_status_code         119390 non-null  int32  \n",
      " 41  reservation_status_date_code    119390 non-null  int32  \n",
      "dtypes: float64(2), int32(11), int64(17), object(12)\n",
      "memory usage: 33.2+ MB\n"
     ]
    }
   ],
   "source": [
    "data_copy.info()"
   ]
  },
  {
   "cell_type": "code",
   "execution_count": 25,
   "metadata": {},
   "outputs": [],
   "source": [
    "import seaborn as sns"
   ]
  },
  {
   "cell_type": "code",
   "execution_count": 26,
   "metadata": {
    "scrolled": true
   },
   "outputs": [
    {
     "data": {
      "text/plain": [
       "<AxesSubplot:>"
      ]
     },
     "execution_count": 26,
     "metadata": {},
     "output_type": "execute_result"
    },
    {
     "data": {
      "image/png": "[encoded data removed]",
      "text/plain": [
       "<Figure size 864x720 with 2 Axes>"
      ]
     },
     "metadata": {
      "needs_background": "light"
     },
     "output_type": "display_data"
    }
   ],
   "source": [
    "plt.figure(figsize=(12, 10))\n",
    "sns.heatmap(data_copy.corr().abs(), cmap=sns.cm.rocket_r)"
   ]
  },
  {
   "cell_type": "markdown",
   "metadata": {},
   "source": [
    "观察热力图发现，提前预定时长，车位需求，特殊需求，押金类型，预订状态这5个属性与取消预订高相关"
   ]
  },
  {
   "cell_type": "code",
   "execution_count": 27,
   "metadata": {},
   "outputs": [
    {
     "name": "stderr",
     "output_type": "stream",
     "text": [
      "D:\\Anaconda\\envs\\tensorflow\\lib\\site-packages\\sklearn\\linear_model\\_logistic.py:764: ConvergenceWarning: lbfgs failed to converge (status=1):\n",
      "STOP: TOTAL NO. of ITERATIONS REACHED LIMIT.\n",
      "\n",
      "Increase the number of iterations (max_iter) or scale the data as shown in:\n",
      "    https://scikit-learn.org/stable/modules/preprocessing.html\n",
      "Please also refer to the documentation for alternative solver options:\n",
      "    https://scikit-learn.org/stable/modules/linear_model.html#logistic-regression\n",
      "  extra_warning_msg=_LOGISTIC_SOLVER_CONVERGENCE_MSG)\n",
      "D:\\Anaconda\\envs\\tensorflow\\lib\\site-packages\\sklearn\\linear_model\\_logistic.py:764: ConvergenceWarning: lbfgs failed to converge (status=1):\n",
      "STOP: TOTAL NO. of ITERATIONS REACHED LIMIT.\n",
      "\n",
      "Increase the number of iterations (max_iter) or scale the data as shown in:\n",
      "    https://scikit-learn.org/stable/modules/preprocessing.html\n",
      "Please also refer to the documentation for alternative solver options:\n",
      "    https://scikit-learn.org/stable/modules/linear_model.html#logistic-regression\n",
      "  extra_warning_msg=_LOGISTIC_SOLVER_CONVERGENCE_MSG)\n",
      "D:\\Anaconda\\envs\\tensorflow\\lib\\site-packages\\sklearn\\linear_model\\_logistic.py:764: ConvergenceWarning: lbfgs failed to converge (status=1):\n",
      "STOP: TOTAL NO. of ITERATIONS REACHED LIMIT.\n",
      "\n",
      "Increase the number of iterations (max_iter) or scale the data as shown in:\n",
      "    https://scikit-learn.org/stable/modules/preprocessing.html\n",
      "Please also refer to the documentation for alternative solver options:\n",
      "    https://scikit-learn.org/stable/modules/linear_model.html#logistic-regression\n",
      "  extra_warning_msg=_LOGISTIC_SOLVER_CONVERGENCE_MSG)\n"
     ]
    }
   ],
   "source": [
    "from sklearn.preprocessing import StandardScaler\n",
    "from sklearn.model_selection import cross_validate\n",
    "\n",
    "col = [2, 3] + list(np.arange(5, 12, 1)) + [16, 17, 18, 21, 23, 25, 26, 27] + list(np.arange(31, 42, 1))\n",
    "\n",
    "feature_colums = [data_copy.columns.to_list()[i] for i in col]\n",
    "X = data_copy[feature_colums]\n",
    "y = data_copy['is_canceled']\n",
    "Xtrain, Xtest, ytrain, ytest = model_selection.train_test_split(X, y, train_size=0.8, test_size=0.2, random_state=0)\n",
    "\n",
    "\n",
    "# 特征缩放\n",
    "std_sca = StandardScaler()\n",
    "Xtrain = std_sca.fit_transform(Xtrain)\n",
    "\n",
    "# 引入模型\n",
    "MLA = [\n",
    "    # 线性回归\n",
    "    LogisticRegression(max_iter=1000)]# ,n_jobs=-1, random_state=42\n",
    "MLA_columns = [\n",
    "    'MLA Name', 'Train Accuracy Mean', 'Test Accuracy Mean', 'Test F1 Score', 'Time'\n",
    "]\n",
    "MLA_compare = pd.DataFrame(np.zeros([len(MLA), len(MLA_columns)]), columns=MLA_columns)\n",
    "row_index = 0\n",
    "for alg in MLA:\n",
    "    MLA_compare.iloc[row_index, 0] = alg.__class__.__name__\n",
    "    cv_results = cross_validate(alg, X, y, scoring=('accuracy', 'f1'),\n",
    "                                cv=3, return_train_score=True)\n",
    "    MLA_compare.iloc[row_index, 1] = round(cv_results['train_accuracy'].mean() * 100, 3)\n",
    "    MLA_compare.iloc[row_index, 2] = round(cv_results['test_accuracy'].mean() * 100, 3)\n",
    "    MLA_compare.iloc[row_index, 3] = round(cv_results['test_f1'].mean() * 100, 3)\n",
    "    MLA_compare.iloc[row_index, 4] = cv_results['fit_time'].mean()\n",
    "    row_index += 1"
   ]
  },
  {
   "cell_type": "code",
   "execution_count": 28,
   "metadata": {
    "scrolled": true
   },
   "outputs": [
    {
     "data": {
      "text/html": [
       "<div>\n",
       "<style scoped>\n",
       "    .dataframe tbody tr th:only-of-type {\n",
       "        vertical-align: middle;\n",
       "    }\n",
       "\n",
       "    .dataframe tbody tr th {\n",
       "        vertical-align: top;\n",
       "    }\n",
       "\n",
       "    .dataframe thead th {\n",
       "        text-align: right;\n",
       "    }\n",
       "</style>\n",
       "<table border=\"1\" class=\"dataframe\">\n",
       "  <thead>\n",
       "    <tr style=\"text-align: right;\">\n",
       "      <th></th>\n",
       "      <th>MLA Name</th>\n",
       "      <th>Train Accuracy Mean</th>\n",
       "      <th>Test Accuracy Mean</th>\n",
       "      <th>Test F1 Score</th>\n",
       "      <th>Time</th>\n",
       "    </tr>\n",
       "  </thead>\n",
       "  <tbody>\n",
       "    <tr>\n",
       "      <th>0</th>\n",
       "      <td>LogisticRegression</td>\n",
       "      <td>98.953</td>\n",
       "      <td>98.858</td>\n",
       "      <td>98.438</td>\n",
       "      <td>6.109653</td>\n",
       "    </tr>\n",
       "  </tbody>\n",
       "</table>\n",
       "</div>"
      ],
      "text/plain": [
       "             MLA Name  Train Accuracy Mean  Test Accuracy Mean  Test F1 Score  \\\n",
       "0  LogisticRegression               98.953              98.858         98.438   \n",
       "\n",
       "       Time  \n",
       "0  6.109653  "
      ]
     },
     "execution_count": 28,
     "metadata": {},
     "output_type": "execute_result"
    }
   ],
   "source": [
    "MLA_compare"
   ]
  }
 ],
 "metadata": {
  "kernelspec": {
   "display_name": "Python [conda env:tensorflow]",
   "language": "python",
   "name": "conda-env-tensorflow-py"
  },
  "language_info": {
   "codemirror_mode": {
    "name": "ipython",
    "version": 3
   },
   "file_extension": ".py",
   "mimetype": "text/x-python",
   "name": "python",
   "nbconvert_exporter": "python",
   "pygments_lexer": "ipython3",
   "version": "3.7.9"
  }
 },
 "nbformat": 4,
 "nbformat_minor": 4
}
